{
  "nbformat": 4,
  "nbformat_minor": 0,
  "metadata": {
    "colab": {
      "provenance": [],
      "authorship_tag": "ABX9TyNW1PVhszoovzvuYLl6ANwU",
      "include_colab_link": true
    },
    "kernelspec": {
      "name": "python3",
      "display_name": "Python 3"
    },
    "language_info": {
      "name": "python"
    }
  },
  "cells": [
    {
      "cell_type": "markdown",
      "metadata": {
        "id": "view-in-github",
        "colab_type": "text"
      },
      "source": [
        "<a href=\"https://colab.research.google.com/github/brunopdrocha/doctor_agent/blob/main/Agent_Medic_CrewAI.ipynb\" target=\"_parent\"><img src=\"https://colab.research.google.com/assets/colab-badge.svg\" alt=\"Open In Colab\"/></a>"
      ]
    },
    {
      "cell_type": "markdown",
      "source": [
        "# Agent AI Clinical analysis\n",
        "\n",
        "The primary objective of this work is the implementation of an ai agent designed for the purpose of diagnosing users generating a clinical analasys"
      ],
      "metadata": {
        "id": "l6at3tjIJ2gR"
      }
    },
    {
      "cell_type": "code",
      "source": [
        "!python --version"
      ],
      "metadata": {
        "colab": {
          "base_uri": "https://localhost:8080/"
        },
        "id": "2hkwb_YeKr6y",
        "outputId": "feb44357-fd26-4caf-d944-c63a8c236754"
      },
      "execution_count": null,
      "outputs": [
        {
          "output_type": "stream",
          "name": "stdout",
          "text": [
            "Python 3.11.12\n"
          ]
        }
      ]
    },
    {
      "cell_type": "code",
      "execution_count": null,
      "metadata": {
        "colab": {
          "base_uri": "https://localhost:8080/"
        },
        "id": "W4D3yDOJJetz",
        "outputId": "ab02d7f8-799f-41ed-9808-bc922a56cd8f"
      },
      "outputs": [
        {
          "output_type": "stream",
          "name": "stdout",
          "text": [
            "Requirement already satisfied: crewai in /usr/local/lib/python3.11/dist-packages (0.114.0)\n",
            "Requirement already satisfied: crewai-tools in /usr/local/lib/python3.11/dist-packages (0.40.1)\n",
            "Requirement already satisfied: duckduckgo-search in /usr/local/lib/python3.11/dist-packages (8.0.1)\n",
            "Requirement already satisfied: appdirs>=1.4.4 in /usr/local/lib/python3.11/dist-packages (from crewai) (1.4.4)\n",
            "Requirement already satisfied: auth0-python>=4.7.1 in /usr/local/lib/python3.11/dist-packages (from crewai) (4.9.0)\n",
            "Requirement already satisfied: blinker>=1.9.0 in /usr/local/lib/python3.11/dist-packages (from crewai) (1.9.0)\n",
            "Requirement already satisfied: chromadb>=0.5.23 in /usr/local/lib/python3.11/dist-packages (from crewai) (0.5.23)\n",
            "Requirement already satisfied: click>=8.1.7 in /usr/local/lib/python3.11/dist-packages (from crewai) (8.1.8)\n",
            "Requirement already satisfied: instructor>=1.3.3 in /usr/local/lib/python3.11/dist-packages (from crewai) (1.7.9)\n",
            "Requirement already satisfied: json-repair>=0.25.2 in /usr/local/lib/python3.11/dist-packages (from crewai) (0.42.0)\n",
            "Requirement already satisfied: json5>=0.10.0 in /usr/local/lib/python3.11/dist-packages (from crewai) (0.12.0)\n",
            "Requirement already satisfied: jsonref>=1.1.0 in /usr/local/lib/python3.11/dist-packages (from crewai) (1.1.0)\n",
            "Requirement already satisfied: litellm==1.60.2 in /usr/local/lib/python3.11/dist-packages (from crewai) (1.60.2)\n",
            "Requirement already satisfied: openai>=1.13.3 in /usr/local/lib/python3.11/dist-packages (from crewai) (1.75.0)\n",
            "Requirement already satisfied: openpyxl>=3.1.5 in /usr/local/lib/python3.11/dist-packages (from crewai) (3.1.5)\n",
            "Requirement already satisfied: opentelemetry-api>=1.30.0 in /usr/local/lib/python3.11/dist-packages (from crewai) (1.32.1)\n",
            "Requirement already satisfied: opentelemetry-exporter-otlp-proto-http>=1.30.0 in /usr/local/lib/python3.11/dist-packages (from crewai) (1.32.1)\n",
            "Requirement already satisfied: opentelemetry-sdk>=1.30.0 in /usr/local/lib/python3.11/dist-packages (from crewai) (1.32.1)\n",
            "Requirement already satisfied: pdfplumber>=0.11.4 in /usr/local/lib/python3.11/dist-packages (from crewai) (0.11.6)\n",
            "Requirement already satisfied: pydantic>=2.4.2 in /usr/local/lib/python3.11/dist-packages (from crewai) (2.11.3)\n",
            "Requirement already satisfied: python-dotenv>=1.0.0 in /usr/local/lib/python3.11/dist-packages (from crewai) (1.1.0)\n",
            "Requirement already satisfied: pyvis>=0.3.2 in /usr/local/lib/python3.11/dist-packages (from crewai) (0.3.2)\n",
            "Requirement already satisfied: regex>=2024.9.11 in /usr/local/lib/python3.11/dist-packages (from crewai) (2024.11.6)\n",
            "Requirement already satisfied: tomli-w>=1.1.0 in /usr/local/lib/python3.11/dist-packages (from crewai) (1.2.0)\n",
            "Requirement already satisfied: tomli>=2.0.2 in /usr/local/lib/python3.11/dist-packages (from crewai) (2.2.1)\n",
            "Requirement already satisfied: uv>=0.4.25 in /usr/local/lib/python3.11/dist-packages (from crewai) (0.6.16)\n",
            "Requirement already satisfied: aiohttp in /usr/local/lib/python3.11/dist-packages (from litellm==1.60.2->crewai) (3.11.15)\n",
            "Requirement already satisfied: httpx<0.28.0,>=0.23.0 in /usr/local/lib/python3.11/dist-packages (from litellm==1.60.2->crewai) (0.27.2)\n",
            "Requirement already satisfied: importlib-metadata>=6.8.0 in /usr/local/lib/python3.11/dist-packages (from litellm==1.60.2->crewai) (8.6.1)\n",
            "Requirement already satisfied: jinja2<4.0.0,>=3.1.2 in /usr/local/lib/python3.11/dist-packages (from litellm==1.60.2->crewai) (3.1.6)\n",
            "Requirement already satisfied: jsonschema<5.0.0,>=4.22.0 in /usr/local/lib/python3.11/dist-packages (from litellm==1.60.2->crewai) (4.23.0)\n",
            "Requirement already satisfied: tiktoken>=0.7.0 in /usr/local/lib/python3.11/dist-packages (from litellm==1.60.2->crewai) (0.9.0)\n",
            "Requirement already satisfied: tokenizers in /usr/local/lib/python3.11/dist-packages (from litellm==1.60.2->crewai) (0.20.3)\n",
            "Requirement already satisfied: docker>=7.1.0 in /usr/local/lib/python3.11/dist-packages (from crewai-tools) (7.1.0)\n",
            "Requirement already satisfied: embedchain>=0.1.114 in /usr/local/lib/python3.11/dist-packages (from crewai-tools) (0.1.128)\n",
            "Requirement already satisfied: lancedb>=0.5.4 in /usr/local/lib/python3.11/dist-packages (from crewai-tools) (0.21.2)\n",
            "Requirement already satisfied: pyright>=1.1.350 in /usr/local/lib/python3.11/dist-packages (from crewai-tools) (1.1.399)\n",
            "Requirement already satisfied: pytube>=15.0.0 in /usr/local/lib/python3.11/dist-packages (from crewai-tools) (15.0.0)\n",
            "Requirement already satisfied: requests>=2.31.0 in /usr/local/lib/python3.11/dist-packages (from crewai-tools) (2.32.3)\n",
            "Requirement already satisfied: primp>=0.15.0 in /usr/local/lib/python3.11/dist-packages (from duckduckgo-search) (0.15.0)\n",
            "Requirement already satisfied: lxml>=5.3.0 in /usr/local/lib/python3.11/dist-packages (from duckduckgo-search) (5.3.2)\n",
            "Requirement already satisfied: cryptography>=43.0.1 in /usr/local/lib/python3.11/dist-packages (from auth0-python>=4.7.1->crewai) (43.0.3)\n",
            "Requirement already satisfied: pyjwt>=2.8.0 in /usr/local/lib/python3.11/dist-packages (from auth0-python>=4.7.1->crewai) (2.10.1)\n",
            "Requirement already satisfied: urllib3>=2.2.3 in /usr/local/lib/python3.11/dist-packages (from auth0-python>=4.7.1->crewai) (2.3.0)\n",
            "Requirement already satisfied: build>=1.0.3 in /usr/local/lib/python3.11/dist-packages (from chromadb>=0.5.23->crewai) (1.2.2.post1)\n",
            "Requirement already satisfied: chroma-hnswlib==0.7.6 in /usr/local/lib/python3.11/dist-packages (from chromadb>=0.5.23->crewai) (0.7.6)\n",
            "Requirement already satisfied: fastapi>=0.95.2 in /usr/local/lib/python3.11/dist-packages (from chromadb>=0.5.23->crewai) (0.115.9)\n",
            "Requirement already satisfied: uvicorn>=0.18.3 in /usr/local/lib/python3.11/dist-packages (from uvicorn[standard]>=0.18.3->chromadb>=0.5.23->crewai) (0.34.2)\n",
            "Requirement already satisfied: numpy>=1.22.5 in /usr/local/lib/python3.11/dist-packages (from chromadb>=0.5.23->crewai) (2.0.2)\n",
            "Requirement already satisfied: posthog>=2.4.0 in /usr/local/lib/python3.11/dist-packages (from chromadb>=0.5.23->crewai) (3.25.0)\n",
            "Requirement already satisfied: typing_extensions>=4.5.0 in /usr/local/lib/python3.11/dist-packages (from chromadb>=0.5.23->crewai) (4.13.2)\n",
            "Requirement already satisfied: onnxruntime>=1.14.1 in /usr/local/lib/python3.11/dist-packages (from chromadb>=0.5.23->crewai) (1.21.1)\n",
            "Requirement already satisfied: opentelemetry-exporter-otlp-proto-grpc>=1.2.0 in /usr/local/lib/python3.11/dist-packages (from chromadb>=0.5.23->crewai) (1.32.1)\n",
            "Requirement already satisfied: opentelemetry-instrumentation-fastapi>=0.41b0 in /usr/local/lib/python3.11/dist-packages (from chromadb>=0.5.23->crewai) (0.53b1)\n",
            "Requirement already satisfied: pypika>=0.48.9 in /usr/local/lib/python3.11/dist-packages (from chromadb>=0.5.23->crewai) (0.48.9)\n",
            "Requirement already satisfied: tqdm>=4.65.0 in /usr/local/lib/python3.11/dist-packages (from chromadb>=0.5.23->crewai) (4.67.1)\n",
            "Requirement already satisfied: overrides>=7.3.1 in /usr/local/lib/python3.11/dist-packages (from chromadb>=0.5.23->crewai) (7.7.0)\n",
            "Requirement already satisfied: importlib-resources in /usr/local/lib/python3.11/dist-packages (from chromadb>=0.5.23->crewai) (6.5.2)\n",
            "Requirement already satisfied: grpcio>=1.58.0 in /usr/local/lib/python3.11/dist-packages (from chromadb>=0.5.23->crewai) (1.71.0)\n",
            "Requirement already satisfied: bcrypt>=4.0.1 in /usr/local/lib/python3.11/dist-packages (from chromadb>=0.5.23->crewai) (4.3.0)\n",
            "Requirement already satisfied: typer>=0.9.0 in /usr/local/lib/python3.11/dist-packages (from chromadb>=0.5.23->crewai) (0.15.2)\n",
            "Requirement already satisfied: kubernetes>=28.1.0 in /usr/local/lib/python3.11/dist-packages (from chromadb>=0.5.23->crewai) (32.0.1)\n",
            "Requirement already satisfied: tenacity>=8.2.3 in /usr/local/lib/python3.11/dist-packages (from chromadb>=0.5.23->crewai) (9.1.2)\n",
            "Requirement already satisfied: PyYAML>=6.0.0 in /usr/local/lib/python3.11/dist-packages (from chromadb>=0.5.23->crewai) (6.0.2)\n",
            "Requirement already satisfied: mmh3>=4.0.1 in /usr/local/lib/python3.11/dist-packages (from chromadb>=0.5.23->crewai) (5.1.0)\n",
            "Requirement already satisfied: orjson>=3.9.12 in /usr/local/lib/python3.11/dist-packages (from chromadb>=0.5.23->crewai) (3.10.16)\n",
            "Requirement already satisfied: rich>=10.11.0 in /usr/local/lib/python3.11/dist-packages (from chromadb>=0.5.23->crewai) (13.9.4)\n",
            "Requirement already satisfied: alembic<2.0.0,>=1.13.1 in /usr/local/lib/python3.11/dist-packages (from embedchain>=0.1.114->crewai-tools) (1.15.2)\n",
            "Requirement already satisfied: beautifulsoup4<5.0.0,>=4.12.2 in /usr/local/lib/python3.11/dist-packages (from embedchain>=0.1.114->crewai-tools) (4.13.4)\n",
            "Requirement already satisfied: gptcache<0.2.0,>=0.1.43 in /usr/local/lib/python3.11/dist-packages (from embedchain>=0.1.114->crewai-tools) (0.1.44)\n",
            "Requirement already satisfied: langchain<0.4.0,>=0.3.1 in /usr/local/lib/python3.11/dist-packages (from embedchain>=0.1.114->crewai-tools) (0.3.24)\n",
            "Requirement already satisfied: langchain-cohere<0.4.0,>=0.3.0 in /usr/local/lib/python3.11/dist-packages (from embedchain>=0.1.114->crewai-tools) (0.3.5)\n",
            "Requirement already satisfied: langchain-community<0.4.0,>=0.3.1 in /usr/local/lib/python3.11/dist-packages (from embedchain>=0.1.114->crewai-tools) (0.3.22)\n",
            "Requirement already satisfied: langchain-openai<0.3.0,>=0.2.1 in /usr/local/lib/python3.11/dist-packages (from embedchain>=0.1.114->crewai-tools) (0.2.14)\n",
            "Requirement already satisfied: langsmith<0.4.0,>=0.3.18 in /usr/local/lib/python3.11/dist-packages (from embedchain>=0.1.114->crewai-tools) (0.3.31)\n",
            "Requirement already satisfied: mem0ai<0.2.0,>=0.1.54 in /usr/local/lib/python3.11/dist-packages (from embedchain>=0.1.114->crewai-tools) (0.1.93)\n",
            "Requirement already satisfied: pypdf<6.0.0,>=5.0.0 in /usr/local/lib/python3.11/dist-packages (from embedchain>=0.1.114->crewai-tools) (5.4.0)\n",
            "Requirement already satisfied: pysbd<0.4.0,>=0.3.4 in /usr/local/lib/python3.11/dist-packages (from embedchain>=0.1.114->crewai-tools) (0.3.4)\n",
            "Requirement already satisfied: schema<0.8.0,>=0.7.5 in /usr/local/lib/python3.11/dist-packages (from embedchain>=0.1.114->crewai-tools) (0.7.7)\n",
            "Requirement already satisfied: sqlalchemy<3.0.0,>=2.0.27 in /usr/local/lib/python3.11/dist-packages (from embedchain>=0.1.114->crewai-tools) (2.0.40)\n",
            "Requirement already satisfied: docstring-parser<1.0,>=0.16 in /usr/local/lib/python3.11/dist-packages (from instructor>=1.3.3->crewai) (0.16)\n",
            "Requirement already satisfied: jiter<0.9,>=0.6.1 in /usr/local/lib/python3.11/dist-packages (from instructor>=1.3.3->crewai) (0.8.2)\n",
            "Requirement already satisfied: pydantic-core<3.0.0,>=2.18.0 in /usr/local/lib/python3.11/dist-packages (from instructor>=1.3.3->crewai) (2.33.1)\n",
            "Requirement already satisfied: deprecation in /usr/local/lib/python3.11/dist-packages (from lancedb>=0.5.4->crewai-tools) (2.1.0)\n",
            "Requirement already satisfied: pyarrow>=14 in /usr/local/lib/python3.11/dist-packages (from lancedb>=0.5.4->crewai-tools) (18.1.0)\n",
            "Requirement already satisfied: packaging in /usr/local/lib/python3.11/dist-packages (from lancedb>=0.5.4->crewai-tools) (24.2)\n",
            "Requirement already satisfied: anyio<5,>=3.5.0 in /usr/local/lib/python3.11/dist-packages (from openai>=1.13.3->crewai) (4.9.0)\n",
            "Requirement already satisfied: distro<2,>=1.7.0 in /usr/local/lib/python3.11/dist-packages (from openai>=1.13.3->crewai) (1.9.0)\n",
            "Requirement already satisfied: sniffio in /usr/local/lib/python3.11/dist-packages (from openai>=1.13.3->crewai) (1.3.1)\n",
            "Requirement already satisfied: et-xmlfile in /usr/local/lib/python3.11/dist-packages (from openpyxl>=3.1.5->crewai) (2.0.0)\n",
            "Requirement already satisfied: deprecated>=1.2.6 in /usr/local/lib/python3.11/dist-packages (from opentelemetry-api>=1.30.0->crewai) (1.2.18)\n",
            "Requirement already satisfied: googleapis-common-protos~=1.52 in /usr/local/lib/python3.11/dist-packages (from opentelemetry-exporter-otlp-proto-http>=1.30.0->crewai) (1.70.0)\n",
            "Requirement already satisfied: opentelemetry-exporter-otlp-proto-common==1.32.1 in /usr/local/lib/python3.11/dist-packages (from opentelemetry-exporter-otlp-proto-http>=1.30.0->crewai) (1.32.1)\n",
            "Requirement already satisfied: opentelemetry-proto==1.32.1 in /usr/local/lib/python3.11/dist-packages (from opentelemetry-exporter-otlp-proto-http>=1.30.0->crewai) (1.32.1)\n",
            "Requirement already satisfied: protobuf<6.0,>=5.0 in /usr/local/lib/python3.11/dist-packages (from opentelemetry-proto==1.32.1->opentelemetry-exporter-otlp-proto-http>=1.30.0->crewai) (5.29.4)\n",
            "Requirement already satisfied: opentelemetry-semantic-conventions==0.53b1 in /usr/local/lib/python3.11/dist-packages (from opentelemetry-sdk>=1.30.0->crewai) (0.53b1)\n",
            "Requirement already satisfied: pdfminer.six==20250327 in /usr/local/lib/python3.11/dist-packages (from pdfplumber>=0.11.4->crewai) (20250327)\n",
            "Requirement already satisfied: Pillow>=9.1 in /usr/local/lib/python3.11/dist-packages (from pdfplumber>=0.11.4->crewai) (11.1.0)\n",
            "Requirement already satisfied: pypdfium2>=4.18.0 in /usr/local/lib/python3.11/dist-packages (from pdfplumber>=0.11.4->crewai) (4.30.1)\n",
            "Requirement already satisfied: charset-normalizer>=2.0.0 in /usr/local/lib/python3.11/dist-packages (from pdfminer.six==20250327->pdfplumber>=0.11.4->crewai) (3.4.1)\n",
            "Requirement already satisfied: annotated-types>=0.6.0 in /usr/local/lib/python3.11/dist-packages (from pydantic>=2.4.2->crewai) (0.7.0)\n",
            "Requirement already satisfied: typing-inspection>=0.4.0 in /usr/local/lib/python3.11/dist-packages (from pydantic>=2.4.2->crewai) (0.4.0)\n",
            "Requirement already satisfied: nodeenv>=1.6.0 in /usr/local/lib/python3.11/dist-packages (from pyright>=1.1.350->crewai-tools) (1.9.1)\n",
            "Requirement already satisfied: ipython>=5.3.0 in /usr/local/lib/python3.11/dist-packages (from pyvis>=0.3.2->crewai) (7.34.0)\n",
            "Requirement already satisfied: jsonpickle>=1.4.1 in /usr/local/lib/python3.11/dist-packages (from pyvis>=0.3.2->crewai) (4.0.5)\n",
            "Requirement already satisfied: networkx>=1.11 in /usr/local/lib/python3.11/dist-packages (from pyvis>=0.3.2->crewai) (3.4.2)\n",
            "Requirement already satisfied: idna<4,>=2.5 in /usr/local/lib/python3.11/dist-packages (from requests>=2.31.0->crewai-tools) (3.10)\n",
            "Requirement already satisfied: certifi>=2017.4.17 in /usr/local/lib/python3.11/dist-packages (from requests>=2.31.0->crewai-tools) (2025.1.31)\n",
            "Requirement already satisfied: aiohappyeyeballs>=2.3.0 in /usr/local/lib/python3.11/dist-packages (from aiohttp->litellm==1.60.2->crewai) (2.6.1)\n",
            "Requirement already satisfied: aiosignal>=1.1.2 in /usr/local/lib/python3.11/dist-packages (from aiohttp->litellm==1.60.2->crewai) (1.3.2)\n",
            "Requirement already satisfied: attrs>=17.3.0 in /usr/local/lib/python3.11/dist-packages (from aiohttp->litellm==1.60.2->crewai) (25.3.0)\n",
            "Requirement already satisfied: frozenlist>=1.1.1 in /usr/local/lib/python3.11/dist-packages (from aiohttp->litellm==1.60.2->crewai) (1.5.0)\n",
            "Requirement already satisfied: multidict<7.0,>=4.5 in /usr/local/lib/python3.11/dist-packages (from aiohttp->litellm==1.60.2->crewai) (6.4.3)\n",
            "Requirement already satisfied: propcache>=0.2.0 in /usr/local/lib/python3.11/dist-packages (from aiohttp->litellm==1.60.2->crewai) (0.3.1)\n",
            "Requirement already satisfied: yarl<2.0,>=1.17.0 in /usr/local/lib/python3.11/dist-packages (from aiohttp->litellm==1.60.2->crewai) (1.19.0)\n",
            "Requirement already satisfied: Mako in /usr/lib/python3/dist-packages (from alembic<2.0.0,>=1.13.1->embedchain>=0.1.114->crewai-tools) (1.1.3)\n",
            "Requirement already satisfied: soupsieve>1.2 in /usr/local/lib/python3.11/dist-packages (from beautifulsoup4<5.0.0,>=4.12.2->embedchain>=0.1.114->crewai-tools) (2.6)\n",
            "Requirement already satisfied: pyproject_hooks in /usr/local/lib/python3.11/dist-packages (from build>=1.0.3->chromadb>=0.5.23->crewai) (1.2.0)\n",
            "Requirement already satisfied: cffi>=1.12 in /usr/local/lib/python3.11/dist-packages (from cryptography>=43.0.1->auth0-python>=4.7.1->crewai) (1.17.1)\n",
            "Requirement already satisfied: wrapt<2,>=1.10 in /usr/local/lib/python3.11/dist-packages (from deprecated>=1.2.6->opentelemetry-api>=1.30.0->crewai) (1.17.2)\n",
            "Requirement already satisfied: starlette<0.46.0,>=0.40.0 in /usr/local/lib/python3.11/dist-packages (from fastapi>=0.95.2->chromadb>=0.5.23->crewai) (0.45.3)\n",
            "Requirement already satisfied: cachetools in /usr/local/lib/python3.11/dist-packages (from gptcache<0.2.0,>=0.1.43->embedchain>=0.1.114->crewai-tools) (5.5.2)\n",
            "Requirement already satisfied: httpcore==1.* in /usr/local/lib/python3.11/dist-packages (from httpx<0.28.0,>=0.23.0->litellm==1.60.2->crewai) (1.0.8)\n",
            "Requirement already satisfied: h11<0.15,>=0.13 in /usr/local/lib/python3.11/dist-packages (from httpcore==1.*->httpx<0.28.0,>=0.23.0->litellm==1.60.2->crewai) (0.14.0)\n",
            "Requirement already satisfied: zipp>=3.20 in /usr/local/lib/python3.11/dist-packages (from importlib-metadata>=6.8.0->litellm==1.60.2->crewai) (3.21.0)\n",
            "Requirement already satisfied: setuptools>=18.5 in /usr/local/lib/python3.11/dist-packages (from ipython>=5.3.0->pyvis>=0.3.2->crewai) (75.2.0)\n",
            "Requirement already satisfied: jedi>=0.16 in /usr/local/lib/python3.11/dist-packages (from ipython>=5.3.0->pyvis>=0.3.2->crewai) (0.19.2)\n",
            "Requirement already satisfied: decorator in /usr/local/lib/python3.11/dist-packages (from ipython>=5.3.0->pyvis>=0.3.2->crewai) (4.4.2)\n",
            "Requirement already satisfied: pickleshare in /usr/local/lib/python3.11/dist-packages (from ipython>=5.3.0->pyvis>=0.3.2->crewai) (0.7.5)\n",
            "Requirement already satisfied: traitlets>=4.2 in /usr/local/lib/python3.11/dist-packages (from ipython>=5.3.0->pyvis>=0.3.2->crewai) (5.7.1)\n",
            "Requirement already satisfied: prompt-toolkit!=3.0.0,!=3.0.1,<3.1.0,>=2.0.0 in /usr/local/lib/python3.11/dist-packages (from ipython>=5.3.0->pyvis>=0.3.2->crewai) (3.0.51)\n",
            "Requirement already satisfied: pygments in /usr/local/lib/python3.11/dist-packages (from ipython>=5.3.0->pyvis>=0.3.2->crewai) (2.18.0)\n",
            "Requirement already satisfied: backcall in /usr/local/lib/python3.11/dist-packages (from ipython>=5.3.0->pyvis>=0.3.2->crewai) (0.2.0)\n",
            "Requirement already satisfied: matplotlib-inline in /usr/local/lib/python3.11/dist-packages (from ipython>=5.3.0->pyvis>=0.3.2->crewai) (0.1.7)\n",
            "Requirement already satisfied: pexpect>4.3 in /usr/local/lib/python3.11/dist-packages (from ipython>=5.3.0->pyvis>=0.3.2->crewai) (4.9.0)\n",
            "Requirement already satisfied: MarkupSafe>=2.0 in /usr/local/lib/python3.11/dist-packages (from jinja2<4.0.0,>=3.1.2->litellm==1.60.2->crewai) (3.0.2)\n",
            "Requirement already satisfied: jsonschema-specifications>=2023.03.6 in /usr/local/lib/python3.11/dist-packages (from jsonschema<5.0.0,>=4.22.0->litellm==1.60.2->crewai) (2024.10.1)\n",
            "Requirement already satisfied: referencing>=0.28.4 in /usr/local/lib/python3.11/dist-packages (from jsonschema<5.0.0,>=4.22.0->litellm==1.60.2->crewai) (0.36.2)\n",
            "Requirement already satisfied: rpds-py>=0.7.1 in /usr/local/lib/python3.11/dist-packages (from jsonschema<5.0.0,>=4.22.0->litellm==1.60.2->crewai) (0.24.0)\n",
            "Requirement already satisfied: six>=1.9.0 in /usr/local/lib/python3.11/dist-packages (from kubernetes>=28.1.0->chromadb>=0.5.23->crewai) (1.17.0)\n",
            "Requirement already satisfied: python-dateutil>=2.5.3 in /usr/local/lib/python3.11/dist-packages (from kubernetes>=28.1.0->chromadb>=0.5.23->crewai) (2.8.2)\n",
            "Requirement already satisfied: google-auth>=1.0.1 in /usr/local/lib/python3.11/dist-packages (from kubernetes>=28.1.0->chromadb>=0.5.23->crewai) (2.38.0)\n",
            "Requirement already satisfied: websocket-client!=0.40.0,!=0.41.*,!=0.42.*,>=0.32.0 in /usr/local/lib/python3.11/dist-packages (from kubernetes>=28.1.0->chromadb>=0.5.23->crewai) (1.8.0)\n",
            "Requirement already satisfied: requests-oauthlib in /usr/local/lib/python3.11/dist-packages (from kubernetes>=28.1.0->chromadb>=0.5.23->crewai) (2.0.0)\n",
            "Requirement already satisfied: oauthlib>=3.2.2 in /usr/local/lib/python3.11/dist-packages (from kubernetes>=28.1.0->chromadb>=0.5.23->crewai) (3.2.2)\n",
            "Requirement already satisfied: durationpy>=0.7 in /usr/local/lib/python3.11/dist-packages (from kubernetes>=28.1.0->chromadb>=0.5.23->crewai) (0.9)\n",
            "Requirement already satisfied: langchain-core<1.0.0,>=0.3.55 in /usr/local/lib/python3.11/dist-packages (from langchain<0.4.0,>=0.3.1->embedchain>=0.1.114->crewai-tools) (0.3.55)\n",
            "Requirement already satisfied: langchain-text-splitters<1.0.0,>=0.3.8 in /usr/local/lib/python3.11/dist-packages (from langchain<0.4.0,>=0.3.1->embedchain>=0.1.114->crewai-tools) (0.3.8)\n",
            "Requirement already satisfied: cohere<6.0,>=5.5.6 in /usr/local/lib/python3.11/dist-packages (from langchain-cohere<0.4.0,>=0.3.0->embedchain>=0.1.114->crewai-tools) (5.15.0)\n",
            "Requirement already satisfied: langchain-experimental<0.4.0,>=0.3.0 in /usr/local/lib/python3.11/dist-packages (from langchain-cohere<0.4.0,>=0.3.0->embedchain>=0.1.114->crewai-tools) (0.3.4)\n",
            "Requirement already satisfied: pandas>=1.4.3 in /usr/local/lib/python3.11/dist-packages (from langchain-cohere<0.4.0,>=0.3.0->embedchain>=0.1.114->crewai-tools) (2.2.2)\n",
            "Requirement already satisfied: tabulate<0.10.0,>=0.9.0 in /usr/local/lib/python3.11/dist-packages (from langchain-cohere<0.4.0,>=0.3.0->embedchain>=0.1.114->crewai-tools) (0.9.0)\n",
            "Requirement already satisfied: dataclasses-json<0.7,>=0.5.7 in /usr/local/lib/python3.11/dist-packages (from langchain-community<0.4.0,>=0.3.1->embedchain>=0.1.114->crewai-tools) (0.6.7)\n",
            "Requirement already satisfied: pydantic-settings<3.0.0,>=2.4.0 in /usr/local/lib/python3.11/dist-packages (from langchain-community<0.4.0,>=0.3.1->embedchain>=0.1.114->crewai-tools) (2.9.1)\n",
            "Requirement already satisfied: httpx-sse<1.0.0,>=0.4.0 in /usr/local/lib/python3.11/dist-packages (from langchain-community<0.4.0,>=0.3.1->embedchain>=0.1.114->crewai-tools) (0.4.0)\n",
            "Requirement already satisfied: requests-toolbelt<2.0.0,>=1.0.0 in /usr/local/lib/python3.11/dist-packages (from langsmith<0.4.0,>=0.3.18->embedchain>=0.1.114->crewai-tools) (1.0.0)\n",
            "Requirement already satisfied: zstandard<0.24.0,>=0.23.0 in /usr/local/lib/python3.11/dist-packages (from langsmith<0.4.0,>=0.3.18->embedchain>=0.1.114->crewai-tools) (0.23.0)\n",
            "Requirement already satisfied: psycopg2-binary<3.0.0,>=2.9.10 in /usr/local/lib/python3.11/dist-packages (from mem0ai<0.2.0,>=0.1.54->embedchain>=0.1.114->crewai-tools) (2.9.10)\n",
            "Requirement already satisfied: pytz<2025.0,>=2024.1 in /usr/local/lib/python3.11/dist-packages (from mem0ai<0.2.0,>=0.1.54->embedchain>=0.1.114->crewai-tools) (2024.2)\n",
            "Requirement already satisfied: qdrant-client<2.0.0,>=1.9.1 in /usr/local/lib/python3.11/dist-packages (from mem0ai<0.2.0,>=0.1.54->embedchain>=0.1.114->crewai-tools) (1.14.1)\n",
            "Requirement already satisfied: coloredlogs in /usr/local/lib/python3.11/dist-packages (from onnxruntime>=1.14.1->chromadb>=0.5.23->crewai) (15.0.1)\n",
            "Requirement already satisfied: flatbuffers in /usr/local/lib/python3.11/dist-packages (from onnxruntime>=1.14.1->chromadb>=0.5.23->crewai) (25.2.10)\n",
            "Requirement already satisfied: sympy in /usr/local/lib/python3.11/dist-packages (from onnxruntime>=1.14.1->chromadb>=0.5.23->crewai) (1.13.1)\n",
            "Requirement already satisfied: opentelemetry-instrumentation-asgi==0.53b1 in /usr/local/lib/python3.11/dist-packages (from opentelemetry-instrumentation-fastapi>=0.41b0->chromadb>=0.5.23->crewai) (0.53b1)\n",
            "Requirement already satisfied: opentelemetry-instrumentation==0.53b1 in /usr/local/lib/python3.11/dist-packages (from opentelemetry-instrumentation-fastapi>=0.41b0->chromadb>=0.5.23->crewai) (0.53b1)\n",
            "Requirement already satisfied: opentelemetry-util-http==0.53b1 in /usr/local/lib/python3.11/dist-packages (from opentelemetry-instrumentation-fastapi>=0.41b0->chromadb>=0.5.23->crewai) (0.53b1)\n",
            "Requirement already satisfied: asgiref~=3.0 in /usr/local/lib/python3.11/dist-packages (from opentelemetry-instrumentation-asgi==0.53b1->opentelemetry-instrumentation-fastapi>=0.41b0->chromadb>=0.5.23->crewai) (3.8.1)\n",
            "Requirement already satisfied: monotonic>=1.5 in /usr/local/lib/python3.11/dist-packages (from posthog>=2.4.0->chromadb>=0.5.23->crewai) (1.6)\n",
            "Requirement already satisfied: backoff>=1.10.0 in /usr/local/lib/python3.11/dist-packages (from posthog>=2.4.0->chromadb>=0.5.23->crewai) (2.2.1)\n",
            "Requirement already satisfied: markdown-it-py>=2.2.0 in /usr/local/lib/python3.11/dist-packages (from rich>=10.11.0->chromadb>=0.5.23->crewai) (3.0.0)\n",
            "Requirement already satisfied: greenlet>=1 in /usr/local/lib/python3.11/dist-packages (from sqlalchemy<3.0.0,>=2.0.27->embedchain>=0.1.114->crewai-tools) (3.2.0)\n",
            "Requirement already satisfied: huggingface-hub<1.0,>=0.16.4 in /usr/local/lib/python3.11/dist-packages (from tokenizers->litellm==1.60.2->crewai) (0.30.2)\n",
            "Requirement already satisfied: shellingham>=1.3.0 in /usr/local/lib/python3.11/dist-packages (from typer>=0.9.0->chromadb>=0.5.23->crewai) (1.5.4)\n",
            "Requirement already satisfied: httptools>=0.6.3 in /usr/local/lib/python3.11/dist-packages (from uvicorn[standard]>=0.18.3->chromadb>=0.5.23->crewai) (0.6.4)\n",
            "Requirement already satisfied: uvloop!=0.15.0,!=0.15.1,>=0.14.0 in /usr/local/lib/python3.11/dist-packages (from uvicorn[standard]>=0.18.3->chromadb>=0.5.23->crewai) (0.21.0)\n",
            "Requirement already satisfied: watchfiles>=0.13 in /usr/local/lib/python3.11/dist-packages (from uvicorn[standard]>=0.18.3->chromadb>=0.5.23->crewai) (1.0.5)\n",
            "Requirement already satisfied: websockets>=10.4 in /usr/local/lib/python3.11/dist-packages (from uvicorn[standard]>=0.18.3->chromadb>=0.5.23->crewai) (15.0.1)\n",
            "Requirement already satisfied: pycparser in /usr/local/lib/python3.11/dist-packages (from cffi>=1.12->cryptography>=43.0.1->auth0-python>=4.7.1->crewai) (2.22)\n",
            "Requirement already satisfied: fastavro<2.0.0,>=1.9.4 in /usr/local/lib/python3.11/dist-packages (from cohere<6.0,>=5.5.6->langchain-cohere<0.4.0,>=0.3.0->embedchain>=0.1.114->crewai-tools) (1.10.0)\n",
            "Requirement already satisfied: types-requests<3.0.0,>=2.0.0 in /usr/local/lib/python3.11/dist-packages (from cohere<6.0,>=5.5.6->langchain-cohere<0.4.0,>=0.3.0->embedchain>=0.1.114->crewai-tools) (2.32.0.20250328)\n",
            "Requirement already satisfied: marshmallow<4.0.0,>=3.18.0 in /usr/local/lib/python3.11/dist-packages (from dataclasses-json<0.7,>=0.5.7->langchain-community<0.4.0,>=0.3.1->embedchain>=0.1.114->crewai-tools) (3.26.1)\n",
            "Requirement already satisfied: typing-inspect<1,>=0.4.0 in /usr/local/lib/python3.11/dist-packages (from dataclasses-json<0.7,>=0.5.7->langchain-community<0.4.0,>=0.3.1->embedchain>=0.1.114->crewai-tools) (0.9.0)\n",
            "Requirement already satisfied: pyasn1-modules>=0.2.1 in /usr/local/lib/python3.11/dist-packages (from google-auth>=1.0.1->kubernetes>=28.1.0->chromadb>=0.5.23->crewai) (0.4.2)\n",
            "Requirement already satisfied: rsa<5,>=3.1.4 in /usr/local/lib/python3.11/dist-packages (from google-auth>=1.0.1->kubernetes>=28.1.0->chromadb>=0.5.23->crewai) (4.9.1)\n",
            "Requirement already satisfied: filelock in /usr/local/lib/python3.11/dist-packages (from huggingface-hub<1.0,>=0.16.4->tokenizers->litellm==1.60.2->crewai) (3.18.0)\n",
            "Requirement already satisfied: fsspec>=2023.5.0 in /usr/local/lib/python3.11/dist-packages (from huggingface-hub<1.0,>=0.16.4->tokenizers->litellm==1.60.2->crewai) (2025.3.2)\n",
            "Requirement already satisfied: parso<0.9.0,>=0.8.4 in /usr/local/lib/python3.11/dist-packages (from jedi>=0.16->ipython>=5.3.0->pyvis>=0.3.2->crewai) (0.8.4)\n",
            "Requirement already satisfied: jsonpatch<2.0,>=1.33 in /usr/local/lib/python3.11/dist-packages (from langchain-core<1.0.0,>=0.3.55->langchain<0.4.0,>=0.3.1->embedchain>=0.1.114->crewai-tools) (1.33)\n",
            "Requirement already satisfied: mdurl~=0.1 in /usr/local/lib/python3.11/dist-packages (from markdown-it-py>=2.2.0->rich>=10.11.0->chromadb>=0.5.23->crewai) (0.1.2)\n",
            "Requirement already satisfied: tzdata>=2022.7 in /usr/local/lib/python3.11/dist-packages (from pandas>=1.4.3->langchain-cohere<0.4.0,>=0.3.0->embedchain>=0.1.114->crewai-tools) (2025.2)\n",
            "Requirement already satisfied: ptyprocess>=0.5 in /usr/local/lib/python3.11/dist-packages (from pexpect>4.3->ipython>=5.3.0->pyvis>=0.3.2->crewai) (0.7.0)\n",
            "Requirement already satisfied: wcwidth in /usr/local/lib/python3.11/dist-packages (from prompt-toolkit!=3.0.0,!=3.0.1,<3.1.0,>=2.0.0->ipython>=5.3.0->pyvis>=0.3.2->crewai) (0.2.13)\n",
            "Requirement already satisfied: portalocker<3.0.0,>=2.7.0 in /usr/local/lib/python3.11/dist-packages (from qdrant-client<2.0.0,>=1.9.1->mem0ai<0.2.0,>=0.1.54->embedchain>=0.1.114->crewai-tools) (2.10.1)\n",
            "Requirement already satisfied: humanfriendly>=9.1 in /usr/local/lib/python3.11/dist-packages (from coloredlogs->onnxruntime>=1.14.1->chromadb>=0.5.23->crewai) (10.0)\n",
            "Requirement already satisfied: mpmath<1.4,>=1.1.0 in /usr/local/lib/python3.11/dist-packages (from sympy->onnxruntime>=1.14.1->chromadb>=0.5.23->crewai) (1.3.0)\n",
            "Requirement already satisfied: h2<5,>=3 in /usr/local/lib/python3.11/dist-packages (from httpx[http2]>=0.20.0->qdrant-client<2.0.0,>=1.9.1->mem0ai<0.2.0,>=0.1.54->embedchain>=0.1.114->crewai-tools) (4.2.0)\n",
            "Requirement already satisfied: jsonpointer>=1.9 in /usr/local/lib/python3.11/dist-packages (from jsonpatch<2.0,>=1.33->langchain-core<1.0.0,>=0.3.55->langchain<0.4.0,>=0.3.1->embedchain>=0.1.114->crewai-tools) (3.0.0)\n",
            "Requirement already satisfied: pyasn1<0.7.0,>=0.6.1 in /usr/local/lib/python3.11/dist-packages (from pyasn1-modules>=0.2.1->google-auth>=1.0.1->kubernetes>=28.1.0->chromadb>=0.5.23->crewai) (0.6.1)\n",
            "Requirement already satisfied: mypy-extensions>=0.3.0 in /usr/local/lib/python3.11/dist-packages (from typing-inspect<1,>=0.4.0->dataclasses-json<0.7,>=0.5.7->langchain-community<0.4.0,>=0.3.1->embedchain>=0.1.114->crewai-tools) (1.1.0)\n",
            "Requirement already satisfied: hyperframe<7,>=6.1 in /usr/local/lib/python3.11/dist-packages (from h2<5,>=3->httpx[http2]>=0.20.0->qdrant-client<2.0.0,>=1.9.1->mem0ai<0.2.0,>=0.1.54->embedchain>=0.1.114->crewai-tools) (6.1.0)\n",
            "Requirement already satisfied: hpack<5,>=4.1 in /usr/local/lib/python3.11/dist-packages (from h2<5,>=3->httpx[http2]>=0.20.0->qdrant-client<2.0.0,>=1.9.1->mem0ai<0.2.0,>=0.1.54->embedchain>=0.1.114->crewai-tools) (4.1.0)\n"
          ]
        }
      ],
      "source": [
        "# Installing CrewAI Libraries\n",
        "!pip install crewai crewai-tools duckduckgo-search"
      ]
    },
    {
      "cell_type": "code",
      "source": [
        "#Import libs to create an agent\n",
        "from crewai import Crew, Process, Agent, Task, TaskOutput, CrewOutput , LLM"
      ],
      "metadata": {
        "id": "Npe4HN3YLNwD"
      },
      "execution_count": null,
      "outputs": []
    },
    {
      "cell_type": "code",
      "source": [
        "from google.colab import userdata\n",
        "import os\n",
        "\n",
        "token    = userdata.get('GITHUB_API_KEY')            # seu PAT com models:read\n",
        "endpoint = \"https://models.github.ai/inference\"      # raiz do GitHub Models\n",
        "\n",
        "llm = LLM(\n",
        "    model=\"openai/gpt-4.1\",    # nome exato do modelo no GitHub Models\n",
        "    base_url=endpoint,\n",
        "    api_key=token,\n",
        "    temperature=0.2,\n",
        "    max_tokens = 32768,\n",
        "    publisher=\"openai\"\n",
        ")\n",
        "\n"
      ],
      "metadata": {
        "id": "IipMT1zHMZHq"
      },
      "execution_count": null,
      "outputs": []
    },
    {
      "cell_type": "code",
      "source": [
        "# Try our llm model\n",
        "llm.call(\"Qual é a capital de Brasil\")"
      ],
      "metadata": {
        "colab": {
          "base_uri": "https://localhost:8080/",
          "height": 71
        },
        "id": "vp3o2jbHQeoK",
        "outputId": "dcaa253f-6e23-4415-beba-f94bdd2eb249"
      },
      "execution_count": null,
      "outputs": [
        {
          "output_type": "display_data",
          "data": {
            "text/plain": [
              "\u001b[1;32m🤖 Agent: \u001b[0m\u001b[32mMédico\u001b[0m\n",
              "\u001b[37m    Status: \u001b[0m\u001b[1;32mIn Progress\u001b[0m\n"
            ],
            "text/html": [
              "<pre style=\"white-space:pre;overflow-x:auto;line-height:normal;font-family:Menlo,'DejaVu Sans Mono',consolas,'Courier New',monospace\"><span style=\"color: #008000; text-decoration-color: #008000; font-weight: bold\">🤖 Agent: </span><span style=\"color: #008000; text-decoration-color: #008000\">Médico</span>\n",
              "<span style=\"color: #c0c0c0; text-decoration-color: #c0c0c0\">    Status: </span><span style=\"color: #008000; text-decoration-color: #008000; font-weight: bold\">In Progress</span>\n",
              "</pre>\n"
            ]
          },
          "metadata": {}
        },
        {
          "output_type": "display_data",
          "data": {
            "text/plain": [
              "\n"
            ],
            "text/html": [
              "<pre style=\"white-space:pre;overflow-x:auto;line-height:normal;font-family:Menlo,'DejaVu Sans Mono',consolas,'Courier New',monospace\">\n",
              "</pre>\n"
            ]
          },
          "metadata": {}
        },
        {
          "output_type": "execute_result",
          "data": {
            "text/plain": [
              "'A capital do Brasil é **Brasília**.'"
            ],
            "application/vnd.google.colaboratory.intrinsic+json": {
              "type": "string"
            }
          },
          "metadata": {},
          "execution_count": 196
        }
      ]
    },
    {
      "cell_type": "markdown",
      "source": [
        "## Custom Tool Lang Chain + ScrapeWebSiteTool\n",
        "\n",
        "We are going to use a DuckGoSearch to simulate a SerperDevTool from CrewAi"
      ],
      "metadata": {
        "id": "bazLeqLTPbk2"
      }
    },
    {
      "cell_type": "code",
      "source": [
        "# Custom Tool\n",
        "from langchain_community.tools import DuckDuckGoSearchResults\n",
        "from crewai_tools import ScrapeWebsiteTool\n",
        "from crewai.tools import BaseTool\n",
        "from pydantic import Field\n",
        "import json\n",
        "\n",
        "class SearchTool(BaseTool):\n",
        "    name: str = \"Search\"\n",
        "    description: str = \"Use para buscar informações atuais em sites de notícias e blogs. Ideal para descobrir tendências ou checar fatos recentes.\"\n",
        "    search: DuckDuckGoSearchResults = Field(default_factory=lambda: DuckDuckGoSearchResults(output_format=\"json\", max_results=10, region='pt-br'))\n",
        "\n",
        "    def _run(self, query: str) -> str:\n",
        "        try:\n",
        "            results = self.search.run(query)\n",
        "\n",
        "            # Se for string, tenta converter\n",
        "            if isinstance(results, str):\n",
        "                try:\n",
        "                    results = json.loads(results)\n",
        "                except:\n",
        "                    return results  # Retorna como está se não for JSON válido\n",
        "\n",
        "            # Normaliza formato tipo Serper\n",
        "            response = [\n",
        "                {\n",
        "                    \"title\": item.get(\"title\"),\n",
        "                    \"link\": item.get(\"link\"),\n",
        "                    \"snippet\": item.get(\"snippet\")\n",
        "                }\n",
        "                for item in results if \"title\" in item and \"link\" in item\n",
        "            ]\n",
        "\n",
        "            return json.dumps(response, indent=2, ensure_ascii=False)\n",
        "\n",
        "        except Exception as e:\n",
        "            return f\"Erro ao realizar a busca: {str(e)}\""
      ],
      "metadata": {
        "id": "GF1yht_wGlxv"
      },
      "execution_count": null,
      "outputs": []
    },
    {
      "cell_type": "code",
      "source": [
        "SearchTool().run(\"como melhorar a colica\")"
      ],
      "metadata": {
        "colab": {
          "base_uri": "https://localhost:8080/",
          "height": 140
        },
        "id": "mx6UEg2Yn5rD",
        "outputId": "56a93b95-c7a7-4d20-b137-0b5164010597"
      },
      "execution_count": null,
      "outputs": [
        {
          "output_type": "stream",
          "name": "stdout",
          "text": [
            "Using Tool: Search\n"
          ]
        },
        {
          "output_type": "execute_result",
          "data": {
            "text/plain": [
              "'[\\n  {\\n    \"title\": \"11 posições para aliviar cólica menstrual + vídeo - Saúde umCOMO\",\\n    \"link\": \"https://saude.umcomo.com.br/artigo/posicoes-para-aliviar-colica-menstrual-30833.html\",\\n    \"snippet\": \"Essa posição de yoga ajuda a aliviar não apenas as cólicas menstruais, como também as dores na lombar. Ela consiste em você deitar de barriga para cima, com os braços estendidos na altura dos ombros e, em seguida, elevar as pernas dobradas até a altura do peito e girar para a direita e depois para a esquerda. 9. Postura Supta Baddha ...\"\\n  },\\n  {\\n    \"title\": \"Cólica menstrual exercícios que auxiliam nas dores ... - Manalinda\",\\n    \"link\": \"https://www.manalinda.com/blog/colica-menstrual-exercicios-que-auxiliam-nas-dores\",\\n    \"snippet\": \"Quais tipos de exercícios são mais eficazes para aliviar cólicas menstruais? Exercícios leves a moderados, como caminhada, ioga, pilates e alongamentos, são altamente eficazes para aliviar cólicas menstruais. Essas atividades ajudam a melhorar a circulação sanguínea e a liberar endorfinas, que são analgésicos naturais do corpo.\"\\n  },\\n  {\\n    \"title\": \"Cólica Menstrual: Dicas e Tratamentos Eficazes para Aliviar a Dor\",\\n    \"link\": \"https://blog.clinspace.com.br/colica-menstrual-causas-sintomas-tratamentos/\",\\n    \"snippet\": \"Mudanças no estilo de vida também podem ajudar a reduzir a intensidade das cólicas menstruais. Exercícios regulares, como caminhada e yoga, podem melhorar a circulação e reduzir o estresse. Uma dieta equilibrada rica em frutas, vegetais e grãos integrais pode ajudar a manter o equilíbrio hormonal.\"\\n  },\\n  {\\n    \"title\": \"Como aliviar o desconforto causado pelas cólicas menstruais\",\\n    \"link\": \"https://ohoje.com/2025/02/15/como-aliviar-o-desconforto-causado-pelas-colicas-menstruais/\",\\n    \"snippet\": \"Embora muitas mulheres sintam-se desmotivadas a praticar exercícios durante a menstruação, a atividade física pode ser uma aliada no alívio das cólicas. Exercícios leves, como caminhada, ioga e alongamentos, ajudam a melhorar a circulação sanguínea, reduzir a retenção de líquidos e liberar endorfinas, que são hormônios ...\"\\n  }\\n]'"
            ],
            "application/vnd.google.colaboratory.intrinsic+json": {
              "type": "string"
            }
          },
          "metadata": {},
          "execution_count": 198
        }
      ]
    },
    {
      "cell_type": "markdown",
      "source": [
        "## Agent\n",
        "\n",
        "Let's create our agent who is gonna analyse"
      ],
      "metadata": {
        "id": "k8T3D_anL6zL"
      }
    },
    {
      "cell_type": "code",
      "source": [
        "medic = Agent(\n",
        "  role=\"Médico\",\n",
        "  goal=\"Analisar os sintomas descritos pelo paciente e gerar um laudo médico claro, estruturado e embasado em fontes confiáveis.\",\n",
        "  backstory=\"\"\"\n",
        "  Você é um médico especializado em diagnósticos preliminares com apoio de informações da internet. Seu papel é receber os sintomas relatados por um paciente e, com base neles, fazer uma análise cuidadosa.\n",
        "\n",
        "  Para garantir precisão, você deve:\n",
        "  1. Buscar na web informações médicas recentes e relevantes sobre os sintomas relatados.\n",
        "  2. Validar possíveis diagnósticos ou explicações clínicas compatíveis com os sintomas.\n",
        "  3. Gerar um laudo médico estruturado, com linguagem compreensível ao paciente, incluindo:\n",
        "     - Descrição dos sintomas relatados.\n",
        "     - Possíveis causas ou condições associadas.\n",
        "     - Recomendação preliminar (ex: procurar um especialista, fazer exames).\n",
        "     - Fontes ou referências utilizadas na análise.\n",
        "\n",
        "  Utilize múltiplas buscas na web se necessário, e cite fontes confiáveis como apoio para sua análise. observação cuidado com sites bloqueados ou inexistentes isso pode conflitar com a\n",
        "  sua análise fique atento com estes pontos.\n",
        "  \"\"\",\n",
        "  llm=llm\n",
        "\n",
        ")\n"
      ],
      "metadata": {
        "id": "DxW96bvRL2Du"
      },
      "execution_count": null,
      "outputs": []
    },
    {
      "cell_type": "markdown",
      "source": [
        "## Tasks\n",
        "\n",
        "Let's build 2 tasks that the medic have to follow"
      ],
      "metadata": {
        "id": "aO4WvDyRuOWZ"
      }
    },
    {
      "cell_type": "code",
      "source": [
        "from crewai import Task\n",
        "\n",
        "pacient_analyze = Task(\n",
        "    description=\"\"\"\n",
        "        Analisar cuidadosamente os sintomas relatados pelo paciente e realizar uma análise médica preliminar com base nessas informações.\n",
        "        Utilizar ferramentas de busca web para investigar possíveis causas, condições associadas e contextos relevantes.\n",
        "    \"\"\",\n",
        "    expected_output=\"\"\"\n",
        "        Um parecer médico preliminar sobre o tema {topic}, abordando os principais sintomas descritos pelo paciente,\n",
        "        com explicações claras e objetivas. A resposta deve ser semelhante à de um médico durante uma consulta clínica,\n",
        "        sendo firme, empática e informativa, sem emitir um diagnóstico definitivo.\n",
        "    \"\"\",\n",
        "    agent=medic,\n",
        "    tools=[ScrapeWebsiteTool(), SearchTool()]\n",
        ")\n",
        "\n",
        "\n",
        "clinical_analysis = Task(\n",
        "    description=\"\"\"\n",
        "        Com base nos sintomas analisados, elaborar um laudo médico estruturado e profissional.\n",
        "        O laudo deve oferecer sugestões baseadas em evidências, prezando pela clareza e apoio ao paciente.\n",
        "\n",
        "        O documento deve usar:\n",
        "        - Cabeçalhos (Markdown `#`, `##`, `###`).\n",
        "        - Linhas horizontais (`---`) para separar seções.\n",
        "        - Listas com marcadores claros (`-` ou `*`).\n",
        "        - Texto em **negrito** e _itálico_ para enfatizar pontos-chave.\n",
        "        - Blocos de destaque, quando necessário, com citações Markdown (`> texto`).\n",
        "\n",
        "    \"\"\",\n",
        "    expected_output=\"\"\"\n",
        "        Um laudo médico contendo bem estilizado e com visual elegante contendo os seguintes pontos :\n",
        "        - Resumo dos sintomas apresentados\n",
        "        - Possíveis causas ou diagnósticos diferenciais\n",
        "        - Indicação de medicamentos (nome, posologia, duração)\n",
        "        - Recomendações clínicas e orientações de cuidado\n",
        "        - Observações importantes (como evitar automedicação ou procurar atendimento emergencial)\n",
        "        - Fontes utilizadas (se aplicável)\n",
        "\n",
        "\n",
        "    \"\"\",\n",
        "    agent=medic,\n",
        "    output_file=\"report.md\"\n",
        ")"
      ],
      "metadata": {
        "id": "Phl-RlPYuNzm"
      },
      "execution_count": null,
      "outputs": []
    },
    {
      "cell_type": "markdown",
      "source": [
        "## Crew\n",
        "\n",
        "Now let's create our crew to analyse and work for us\n"
      ],
      "metadata": {
        "id": "MQB1SRhTwKqv"
      }
    },
    {
      "cell_type": "code",
      "source": [
        "# Callig our Crew\n",
        "Crew = Crew(\n",
        "    agents=[medic],\n",
        "    tasks=[pacient_analyze, clinical_analysis],\n",
        "    verbose=True,\n",
        "    process = Process.sequential\n",
        ")"
      ],
      "metadata": {
        "id": "DKZzAA2Ovgy1"
      },
      "execution_count": null,
      "outputs": []
    },
    {
      "cell_type": "markdown",
      "source": [
        "## Running Crew"
      ],
      "metadata": {
        "id": "pUM8pQWmxGuD"
      }
    },
    {
      "cell_type": "code",
      "source": [
        " from datetime import datetime\n",
        "\n",
        " # Entrance Input\n",
        " entrada = \"Ola no momento estou sentindo muita dor no abmonem ao lado direito da minha barriga o que isso pode ser\"\n",
        " inputs = {\n",
        "        'topic':entrada,\n",
        "        'current_year': str(datetime.now().year)\n",
        "    }\n",
        "\n",
        "resultado = Crew.kickoff(inputs = inputs)"
      ],
      "metadata": {
        "colab": {
          "base_uri": "https://localhost:8080/",
          "height": 1000
        },
        "id": "yv5jj0uGwxmd",
        "outputId": "78f22eaa-c206-432d-d34e-97be5e4c0ce4"
      },
      "execution_count": null,
      "outputs": [
        {
          "output_type": "display_data",
          "data": {
            "text/plain": [
              "\u001b[36m╭─\u001b[0m\u001b[36m───────────────────────────────────────────\u001b[0m\u001b[36m Crew Execution Started \u001b[0m\u001b[36m────────────────────────────────────────────\u001b[0m\u001b[36m─╮\u001b[0m\n",
              "\u001b[36m│\u001b[0m                                                                                                                 \u001b[36m│\u001b[0m\n",
              "\u001b[36m│\u001b[0m  \u001b[1;36mCrew Execution Started\u001b[0m                                                                                         \u001b[36m│\u001b[0m\n",
              "\u001b[36m│\u001b[0m  \u001b[37mName: \u001b[0m\u001b[36mcrew\u001b[0m                                                                                                     \u001b[36m│\u001b[0m\n",
              "\u001b[36m│\u001b[0m  \u001b[37mID: \u001b[0m\u001b[36m0163a885-dcab-4f92-80ec-4cb44ad50e00\u001b[0m                                                                       \u001b[36m│\u001b[0m\n",
              "\u001b[36m│\u001b[0m                                                                                                                 \u001b[36m│\u001b[0m\n",
              "\u001b[36m│\u001b[0m                                                                                                                 \u001b[36m│\u001b[0m\n",
              "\u001b[36m╰─────────────────────────────────────────────────────────────────────────────────────────────────────────────────╯\u001b[0m\n"
            ],
            "text/html": [
              "<pre style=\"white-space:pre;overflow-x:auto;line-height:normal;font-family:Menlo,'DejaVu Sans Mono',consolas,'Courier New',monospace\"><span style=\"color: #008080; text-decoration-color: #008080\">╭──────────────────────────────────────────── Crew Execution Started ─────────────────────────────────────────────╮</span>\n",
              "<span style=\"color: #008080; text-decoration-color: #008080\">│</span>                                                                                                                 <span style=\"color: #008080; text-decoration-color: #008080\">│</span>\n",
              "<span style=\"color: #008080; text-decoration-color: #008080\">│</span>  <span style=\"color: #008080; text-decoration-color: #008080; font-weight: bold\">Crew Execution Started</span>                                                                                         <span style=\"color: #008080; text-decoration-color: #008080\">│</span>\n",
              "<span style=\"color: #008080; text-decoration-color: #008080\">│</span>  <span style=\"color: #c0c0c0; text-decoration-color: #c0c0c0\">Name: </span><span style=\"color: #008080; text-decoration-color: #008080\">crew</span>                                                                                                     <span style=\"color: #008080; text-decoration-color: #008080\">│</span>\n",
              "<span style=\"color: #008080; text-decoration-color: #008080\">│</span>  <span style=\"color: #c0c0c0; text-decoration-color: #c0c0c0\">ID: </span><span style=\"color: #008080; text-decoration-color: #008080\">0163a885-dcab-4f92-80ec-4cb44ad50e00</span>                                                                       <span style=\"color: #008080; text-decoration-color: #008080\">│</span>\n",
              "<span style=\"color: #008080; text-decoration-color: #008080\">│</span>                                                                                                                 <span style=\"color: #008080; text-decoration-color: #008080\">│</span>\n",
              "<span style=\"color: #008080; text-decoration-color: #008080\">│</span>                                                                                                                 <span style=\"color: #008080; text-decoration-color: #008080\">│</span>\n",
              "<span style=\"color: #008080; text-decoration-color: #008080\">╰─────────────────────────────────────────────────────────────────────────────────────────────────────────────────╯</span>\n",
              "</pre>\n"
            ]
          },
          "metadata": {}
        },
        {
          "output_type": "display_data",
          "data": {
            "text/plain": [
              "\n"
            ],
            "text/html": [
              "<pre style=\"white-space:pre;overflow-x:auto;line-height:normal;font-family:Menlo,'DejaVu Sans Mono',consolas,'Courier New',monospace\">\n",
              "</pre>\n"
            ]
          },
          "metadata": {}
        },
        {
          "output_type": "display_data",
          "data": {
            "text/plain": [
              "\u001b[1;36m🚀 Crew: \u001b[0m\u001b[1;36mcrew\u001b[0m\n",
              "└── \u001b[1;33m📋 Task: 0d02df78-d223-4795-a4c7-7c85387cb8a7\u001b[0m\n",
              "    \u001b[37m   Status: \u001b[0m\u001b[2;33mExecuting Task...\u001b[0m\n"
            ],
            "text/html": [
              "<pre style=\"white-space:pre;overflow-x:auto;line-height:normal;font-family:Menlo,'DejaVu Sans Mono',consolas,'Courier New',monospace\"><span style=\"color: #008080; text-decoration-color: #008080; font-weight: bold\">🚀 Crew: crew</span>\n",
              "└── <span style=\"color: #808000; text-decoration-color: #808000; font-weight: bold\">📋 Task: 0d02df78-d223-4795-a4c7-7c85387cb8a7</span>\n",
              "    <span style=\"color: #c0c0c0; text-decoration-color: #c0c0c0\">   Status: </span><span style=\"color: #bfbf7f; text-decoration-color: #bfbf7f\">Executing Task...</span>\n",
              "</pre>\n"
            ]
          },
          "metadata": {}
        },
        {
          "output_type": "display_data",
          "data": {
            "text/plain": [
              "\n"
            ],
            "text/html": [
              "<pre style=\"white-space:pre;overflow-x:auto;line-height:normal;font-family:Menlo,'DejaVu Sans Mono',consolas,'Courier New',monospace\">\n",
              "</pre>\n"
            ]
          },
          "metadata": {}
        },
        {
          "output_type": "display_data",
          "data": {
            "text/plain": [
              "\u001b[1;36m🚀 Crew: \u001b[0m\u001b[1;36mcrew\u001b[0m\n",
              "└── \u001b[1;33m📋 Task: 0d02df78-d223-4795-a4c7-7c85387cb8a7\u001b[0m\n",
              "    \u001b[37m   Status: \u001b[0m\u001b[2;33mExecuting Task...\u001b[0m\n",
              "    └── \u001b[1;32m🤖 Agent: \u001b[0m\u001b[32mMédico\u001b[0m\n",
              "        \u001b[37m    Status: \u001b[0m\u001b[1;32mIn Progress\u001b[0m\n"
            ],
            "text/html": [
              "<pre style=\"white-space:pre;overflow-x:auto;line-height:normal;font-family:Menlo,'DejaVu Sans Mono',consolas,'Courier New',monospace\"><span style=\"color: #008080; text-decoration-color: #008080; font-weight: bold\">🚀 Crew: crew</span>\n",
              "└── <span style=\"color: #808000; text-decoration-color: #808000; font-weight: bold\">📋 Task: 0d02df78-d223-4795-a4c7-7c85387cb8a7</span>\n",
              "    <span style=\"color: #c0c0c0; text-decoration-color: #c0c0c0\">   Status: </span><span style=\"color: #bfbf7f; text-decoration-color: #bfbf7f\">Executing Task...</span>\n",
              "    └── <span style=\"color: #008000; text-decoration-color: #008000; font-weight: bold\">🤖 Agent: </span><span style=\"color: #008000; text-decoration-color: #008000\">Médico</span>\n",
              "        <span style=\"color: #c0c0c0; text-decoration-color: #c0c0c0\">    Status: </span><span style=\"color: #008000; text-decoration-color: #008000; font-weight: bold\">In Progress</span>\n",
              "</pre>\n"
            ]
          },
          "metadata": {}
        },
        {
          "output_type": "display_data",
          "data": {
            "text/plain": [
              "\n"
            ],
            "text/html": [
              "<pre style=\"white-space:pre;overflow-x:auto;line-height:normal;font-family:Menlo,'DejaVu Sans Mono',consolas,'Courier New',monospace\">\n",
              "</pre>\n"
            ]
          },
          "metadata": {}
        },
        {
          "output_type": "stream",
          "name": "stdout",
          "text": [
            "\u001b[1m\u001b[95m# Agent:\u001b[00m \u001b[1m\u001b[92mMédico\u001b[00m\n",
            "\u001b[95m## Task:\u001b[00m \u001b[92m\n",
            "        Analisar cuidadosamente os sintomas relatados pelo paciente e realizar uma análise médica preliminar com base nessas informações.\n",
            "        Utilizar ferramentas de busca web para investigar possíveis causas, condições associadas e contextos relevantes.\n",
            "    \u001b[00m\n"
          ]
        },
        {
          "output_type": "display_data",
          "data": {
            "text/plain": [
              "\u001b[1;32m🤖 Agent: \u001b[0m\u001b[32mMédico\u001b[0m\n",
              "\u001b[37m    Status: \u001b[0m\u001b[1;32mIn Progress\u001b[0m\n"
            ],
            "text/html": [
              "<pre style=\"white-space:pre;overflow-x:auto;line-height:normal;font-family:Menlo,'DejaVu Sans Mono',consolas,'Courier New',monospace\"><span style=\"color: #008000; text-decoration-color: #008000; font-weight: bold\">🤖 Agent: </span><span style=\"color: #008000; text-decoration-color: #008000\">Médico</span>\n",
              "<span style=\"color: #c0c0c0; text-decoration-color: #c0c0c0\">    Status: </span><span style=\"color: #008000; text-decoration-color: #008000; font-weight: bold\">In Progress</span>\n",
              "</pre>\n"
            ]
          },
          "metadata": {}
        },
        {
          "output_type": "display_data",
          "data": {
            "text/plain": [
              "\n"
            ],
            "text/html": [
              "<pre style=\"white-space:pre;overflow-x:auto;line-height:normal;font-family:Menlo,'DejaVu Sans Mono',consolas,'Courier New',monospace\">\n",
              "</pre>\n"
            ]
          },
          "metadata": {}
        },
        {
          "output_type": "stream",
          "name": "stdout",
          "text": [
            "\n",
            "\n",
            "\u001b[1m\u001b[95m# Agent:\u001b[00m \u001b[1m\u001b[92mMédico\u001b[00m\n",
            "\u001b[95m## Thought:\u001b[00m \u001b[92mThought: Preciso buscar informações atualizadas e confiáveis sobre dor abdominal localizada no lado direito, suas possíveis causas e recomendações médicas iniciais.\u001b[00m\n",
            "\u001b[95m## Using tool:\u001b[00m \u001b[92mSearch\u001b[00m\n",
            "\u001b[95m## Tool Input:\u001b[00m \u001b[92m\n",
            "\"{\\\"query\\\": \\\"dor abdominal lado direito causas principais e recomenda\\\\u00e7\\\\u00f5es m\\\\u00e9dicas\\\"}\"\u001b[00m\n",
            "\u001b[95m## Tool Output:\u001b[00m \u001b[92m\n",
            "[\n",
            "  {\n",
            "    \"title\": \"Dor no lado direito da barriga: 7 causas (e o que fazer)\",\n",
            "    \"link\": \"https://www.clinicaconsulta.com.br/dor-no-lado-direito-da-barriga-7-causas-e-o-que-fazer\",\n",
            "    \"snippet\": \"A dor no lado direito da barriga é um sintoma que pode gerar preocupação, pois suas causas variam de condições simples a emergências médicas. Conhecer as possíveis origens do desconforto e quando buscar ajuda médica é essencial para manter a saúde e o bem-estar.\"\n",
            "  },\n",
            "  {\n",
            "    \"title\": \"Dor Abdominal no Lado Direito em Baixo: O Que Pode Ser? Descubra as 16 ...\",\n",
            "    \"link\": \"https://www.educarsaude.com/dor-abdominal-inferior-lado-direito/\",\n",
            "    \"snippet\": \"Na maioria das vezes, a Dor Abdominal no Lado Direito, em Baixo, não é motivo de preocupação e desaparece sozinha em um ou dois dias. Aqui está o que pode ser e as principais causas e doenças relacionadas.\"\n",
            "  },\n",
            "  {\n",
            "    \"title\": \"Dor do lado direito da barriga: principais causas e quando se preocupar ...\",\n",
            "    \"link\": \"https://www.passaportedesaude.com.br/dor-do-lado-direito-da-barriga-principais-causas-e-quando-se-preocupar/\",\n",
            "    \"snippet\": \"Dor no lado direito da barriga pode ser gases, mas atenção! Apendicite, pedra na vesícula e infecção nos rins também são causas.\"\n",
            "  },\n",
            "  {\n",
            "    \"title\": \"Dor abdominal: 40 causas e 13 sinais de gravidade - MD.Saúde\",\n",
            "    \"link\": \"https://www.mdsaude.com/gastroenterologia/dor-na-barriga/\",\n",
            "    \"snippet\": \"Conheça as principais causas de dor abdominal, saiba em qual lado da barriga cada uma delas causa dor e quais são os sinais de gravidade.\"\n",
            "  }\n",
            "]\u001b[00m\n"
          ]
        },
        {
          "output_type": "display_data",
          "data": {
            "text/plain": [
              "\u001b[1;32m🤖 Agent: \u001b[0m\u001b[32mMédico\u001b[0m\n",
              "\u001b[37m    Status: \u001b[0m\u001b[1;32mIn Progress\u001b[0m\n",
              "└── \u001b[1;34m🧠 \u001b[0m\u001b[34mThinking...\u001b[0m\n"
            ],
            "text/html": [
              "<pre style=\"white-space:pre;overflow-x:auto;line-height:normal;font-family:Menlo,'DejaVu Sans Mono',consolas,'Courier New',monospace\"><span style=\"color: #008000; text-decoration-color: #008000; font-weight: bold\">🤖 Agent: </span><span style=\"color: #008000; text-decoration-color: #008000\">Médico</span>\n",
              "<span style=\"color: #c0c0c0; text-decoration-color: #c0c0c0\">    Status: </span><span style=\"color: #008000; text-decoration-color: #008000; font-weight: bold\">In Progress</span>\n",
              "└── <span style=\"color: #000080; text-decoration-color: #000080; font-weight: bold\">🧠 </span><span style=\"color: #000080; text-decoration-color: #000080\">Thinking...</span>\n",
              "</pre>\n"
            ]
          },
          "metadata": {}
        },
        {
          "output_type": "display_data",
          "data": {
            "text/plain": [
              "\n"
            ],
            "text/html": [
              "<pre style=\"white-space:pre;overflow-x:auto;line-height:normal;font-family:Menlo,'DejaVu Sans Mono',consolas,'Courier New',monospace\">\n",
              "</pre>\n"
            ]
          },
          "metadata": {}
        },
        {
          "output_type": "display_data",
          "data": {
            "text/plain": [
              "\u001b[1;32m🤖 Agent: \u001b[0m\u001b[32mMédico\u001b[0m\n",
              "\u001b[37m    Status: \u001b[0m\u001b[1;32mIn Progress\u001b[0m\n"
            ],
            "text/html": [
              "<pre style=\"white-space:pre;overflow-x:auto;line-height:normal;font-family:Menlo,'DejaVu Sans Mono',consolas,'Courier New',monospace\"><span style=\"color: #008000; text-decoration-color: #008000; font-weight: bold\">🤖 Agent: </span><span style=\"color: #008000; text-decoration-color: #008000\">Médico</span>\n",
              "<span style=\"color: #c0c0c0; text-decoration-color: #c0c0c0\">    Status: </span><span style=\"color: #008000; text-decoration-color: #008000; font-weight: bold\">In Progress</span>\n",
              "</pre>\n"
            ]
          },
          "metadata": {}
        },
        {
          "output_type": "display_data",
          "data": {
            "text/plain": [
              "\n"
            ],
            "text/html": [
              "<pre style=\"white-space:pre;overflow-x:auto;line-height:normal;font-family:Menlo,'DejaVu Sans Mono',consolas,'Courier New',monospace\">\n",
              "</pre>\n"
            ]
          },
          "metadata": {}
        },
        {
          "output_type": "display_data",
          "data": {
            "text/plain": [
              "\u001b[1;32m🤖 Agent: \u001b[0m\u001b[32mMédico\u001b[0m\n",
              "\u001b[37m    Status: \u001b[0m\u001b[1;32mIn Progress\u001b[0m\n"
            ],
            "text/html": [
              "<pre style=\"white-space:pre;overflow-x:auto;line-height:normal;font-family:Menlo,'DejaVu Sans Mono',consolas,'Courier New',monospace\"><span style=\"color: #008000; text-decoration-color: #008000; font-weight: bold\">🤖 Agent: </span><span style=\"color: #008000; text-decoration-color: #008000\">Médico</span>\n",
              "<span style=\"color: #c0c0c0; text-decoration-color: #c0c0c0\">    Status: </span><span style=\"color: #008000; text-decoration-color: #008000; font-weight: bold\">In Progress</span>\n",
              "</pre>\n"
            ]
          },
          "metadata": {}
        },
        {
          "output_type": "display_data",
          "data": {
            "text/plain": [
              "\n"
            ],
            "text/html": [
              "<pre style=\"white-space:pre;overflow-x:auto;line-height:normal;font-family:Menlo,'DejaVu Sans Mono',consolas,'Courier New',monospace\">\n",
              "</pre>\n"
            ]
          },
          "metadata": {}
        },
        {
          "output_type": "stream",
          "name": "stdout",
          "text": [
            "\n",
            "\n",
            "\u001b[1m\u001b[95m# Agent:\u001b[00m \u001b[1m\u001b[92mMédico\u001b[00m\n",
            "\u001b[95m## Thought:\u001b[00m \u001b[92mThought: Preciso analisar o conteúdo detalhado de pelo menos uma fonte confiável para listar as principais causas, sinais de alerta e recomendações sobre dor abdominal no lado direito.\u001b[00m\n",
            "\u001b[95m## Using tool:\u001b[00m \u001b[92mRead website content\u001b[00m\n",
            "\u001b[95m## Tool Input:\u001b[00m \u001b[92m\n",
            "\"{\\\"website_url\\\": \\\"https://www.clinicaconsulta.com.br/dor-no-lado-direito-da-barriga-7-causas-e-o-que-fazer\\\"}\"\u001b[00m\n",
            "\u001b[95m## Tool Output:\u001b[00m \u001b[92m\n",
            "\n",
            "Dor no lado direito da barriga: 7 causas (e o que fazer)\n",
            "Clínica Consulta\n",
            "Clínica Consulta\n",
            "Especialidades\n",
            "Alergologista\n",
            "Angiologista\n",
            "Cardiologista\n",
            "Cirurgião Geral\n",
            "Clínico Geral\n",
            "Dermatologista\n",
            "Endocrinologista\n",
            "Fisioterapeuta\n",
            "Fonoaudiólogo\n",
            "Gastroenterologista\n",
            "Ver Todos\n",
            "Exames\n",
            "Angioplastia\n",
            "Audiometria\n",
            "Bioimpedância\n",
            "Biópsia\n",
            "Broncoscopia\n",
            "Cateterismo\n",
            "Cintilografia\n",
            "Colesterol Total\n",
            "Colonoscopia\n",
            "Colposcopia\n",
            "Ver Todos\n",
            "Tratamentos Estéticos\n",
            "Carboxiterapia\n",
            "Cirurgia Plástica\n",
            "Criolipólise\n",
            "Depilação a Laser\n",
            "Harmonização Facial\n",
            "Lipoaspiração\n",
            "Microagulhamento\n",
            "Peeling Químico\n",
            "Preenchimento Facial\n",
            "Radiofrequência\n",
            "Ver Todos\n",
            "Odontologia\n",
            "ATM\n",
            "Bruxismo\n",
            "Clareamento\n",
            "Dentista\n",
            "DTM\n",
            "Endodontia\n",
            "Implante Dentário\n",
            "Invisalign\n",
            "Ortodontista\n",
            "Periodontia\n",
            "Ver Todos\n",
            "Blog\n",
            "Contato\n",
            "Agendamento\n",
            "Dor no lado direito da barriga: 7 causas (e o que fazer)\n",
            "Home\n",
            "Blog\n",
            "Dor no lado direito da barriga: 7 causas (e o que fazer)\n",
            "06/01\n",
            "Saúde\n",
            "Postado em:\n",
            "06/01/2025\n",
            "Postado por:\n",
            "Clínica Consulta\n",
            "Tags:\n",
            "dor no lado direito da barriga\n",
            "apendicite\n",
            "cálculos biliares\n",
            "pedra nos rins\n",
            "problemas no fígado\n",
            "síndrome do intestino irritável\n",
            "cisto ovariano\n",
            "tensão muscular\n",
            "saúde abdominal\n",
            "Clínica Consulta\n",
            "Dor no lado direito da barriga: 7 causas (e o que fazer)\n",
            "A dor no lado direito da barriga é um sintoma que pode gerar preocupação, pois suas causas variam de condições simples a emergências médicas. Conhecer as possíveis origens do desconforto e quando buscar ajuda médica é essencial para manter a saúde e o bem-estar.\n",
            "Na Clínica Consulta , oferecemos suporte completo para avaliar e tratar dores abdominais. Este artigo aborda sete causas comuns de dor no lado direito da barriga e orienta sobre o que fazer em cada caso.\n",
            "1. Apendicite\n",
            "A apendicite ocorre quando o apêndice inflama, geralmente causando dor intensa na parte inferior direita do abdômen. Outros sintomas incluem febre, náuseas e vômitos. Trata-se de uma emergência médica que requer atenção imediata.\n",
            "Se você apresentar esses sintomas, é fundamental procurar assistência médica. Na Clínica Consulta , realizamos diagnósticos rápidos e oferecemos o tratamento adequado para evitar complicações graves.\n",
            "2. Cálculos Biliares\n",
            "Cálculos biliares são formações endurecidas na vesícula biliar, muitas vezes resultantes de dietas ricas em gorduras. O principal sintoma é a dor na parte superior direita do abdômen, geralmente após refeições pesadas.\n",
            "A equipe da Clínica Consulta pode realizar exames de imagem, como ultrassonografias, para identificar cálculos biliares e orientar o melhor tratamento, seja conservador ou cirúrgico.\n",
            "3. Pedra nos Rins\n",
            "A dor causada por pedras nos rins geralmente começa na região lombar e se irradia para o lado direito do abdômen. Pode ser acompanhada de dificuldade para urinar e presença de sangue na urina.\n",
            "Se você suspeita de pedra nos rins, procure a Clínica Consulta . Nossos especialistas oferecem opções de tratamento, desde medicamentos para aliviar a dor até procedimentos para remover as pedras.\n",
            "4. Problemas no Fígado\n",
            "Doenças como hepatite ou esteatose hepática (acúmulo de gordura no fígado) podem causar dor na parte superior direita da barriga. Outros sintomas incluem cansaço, icterícia e alterações na cor das fezes e urina.\n",
            "Na Clínica Consulta , realizamos exames de função hepática e imagem para diagnosticar condições do fígado. O tratamento pode incluir mudanças no estilo de vida e medicamentos específicos.\n",
            "5. Síndrome do Intestino Irritável (SII)\n",
            "O SII é uma condição crônica que provoca dores abdominais intermitentes, incluindo no lado direito da barriga, além de alterações nos hábitos intestinais, como diarreia ou constipação.\n",
            "Com acompanhamento na Clínica Consulta , você pode receber um plano de tratamento personalizado que inclui mudanças alimentares, manejo do estresse e, se necessário, medicamentos.\n",
            "6. Cisto Ovariano\n",
            "Em mulheres, cistos no ovário direito podem causar dor localizada, especialmente durante o ciclo menstrual. Em alguns casos, o cisto pode causar inchaço abdominal ou irregularidades menstruais.\n",
            "Caso suspeite de cistos ovarianos, visite a Clínica Consulta . Oferecemos ultrassonografias e tratamentos, desde acompanhamento clínico até intervenções cirúrgicas, se necessário.\n",
            "7. Tensão Muscular\n",
            "Lesões musculares ou esforços físicos intensos podem resultar em dor no lado direito da barriga. Embora essa seja uma causa menos grave, o desconforto pode limitar atividades diárias.\n",
            "Na Clínica Consulta , avaliamos a extensão da lesão e indicamos tratamentos, como fisioterapia ou medicamentos anti-inflamatórios, para acelerar a recuperação.\n",
            "Quando buscar ajuda médica?\n",
            "Se a dor for intensa, persistente ou acompanhada de febre, vômitos ou alterações nos hábitos intestinais, procure ajuda médica imediatamente. Na Clínica Consulta , nossa equipe está preparada para oferecer um diagnóstico preciso e tratamentos eficazes.\n",
            "Conclusão\n",
            "Dor no lado direito da barriga pode ter diversas causas, desde condições simples até problemas graves. Identificar a origem e agir rapidamente é essencial para garantir uma boa saúde. Entre em contato com a Clínica Consulta e agende sua consulta para avaliar suas necessidades e obter o melhor cuidado médico.\n",
            "Compartilhe:\n",
            "Posts Recentes\n",
            "23/04/2025\n",
            "Ansiedade antes de procedimentos estéticos: como se preparar emocionalmente\n",
            "23/04/2025\n",
            "Como a falta de dinheiro afeta o sono e a saúde emocional?\n",
            "22/04/2025\n",
            "Como lidar com a ansiedade antes de uma entrevista de emprego\n",
            "22/04/2025\n",
            "Como a meditação pode ajudar estudantes com ansiedade no vestibular\n",
            "17/04/2025\n",
            "Insegurança corporal e ansiedade social: quando a estética interfere na saúde mental\n",
            "Categorias\n",
            "Saúde\n",
            "Tecnologia\n",
            "Dengue\n",
            "Estética\n",
            "Mercado\n",
            "Pediatria\n",
            "Pele\n",
            "Educação Infantil\n",
            "Alimentação\n",
            "Tags\n",
            "terapia antes da cirurgia estética\n",
            "dismorfia corporal\n",
            "psicologia e imagem corporal\n",
            "autoestima e estética\n",
            "preparo emocional para estética\n",
            "medo de cirurgia plástica\n",
            "procedimentos estéticos e saúde mental\n",
            "ansiedade antes de cirurgia\n",
            "sono e preocupações\n",
            "terapia para ansiedade\n",
            "autoconfiança em tempos difíceis\n",
            "crise financeira e bem-estar\n",
            "impacto do dinheiro na saúde\n",
            "saúde emocional\n",
            "insônia por estresse\n",
            "ansiedade financeira\n",
            "suporte psicológico\n",
            "controle da ansiedade\n",
            "medo de entrevista\n",
            "técnicas de respiração\n",
            "preparação emocional\n",
            "autoconfiança profissional\n",
            "saúde mental no trabalho\n",
            "ansiedade em entrevistas\n",
            "controle do estresse\n",
            "equilíbrio emocional\n",
            "técnicas de mindfulness\n",
            "respiração consciente\n",
            "saúde mental na adolescência\n",
            "foco nos estudos\n",
            "meditação para estudantes\n",
            "ansiedade no vestibular\n",
            "terapia e autoestima\n",
            "saúde mental e beleza\n",
            "transtorno dismórfico corporal\n",
            "redes sociais e autoestima\n",
            "autoimagem\n",
            "pressão estética\n",
            "ansiedade social\n",
            "insegurança corporal\n",
            "transtornos de ansiedade\n",
            "tecnologia e saúde\n",
            "redes sociais\n",
            "terapia psicológica\n",
            "dependência digital\n",
            "saúde mental\n",
            "nomofobia\n",
            "ansiedade\n",
            "saúde emocional\n",
            "acompanhamento psicológico\n",
            "Clínica Consulta\n",
            "A Clínica Consulta atende diversas especialidades e exames, atendimento em todo o Brasil.\n",
            "Acesso Rápido\n",
            "Home\n",
            "Sobre\n",
            "Especialidades\n",
            "Exames\n",
            "Tratamentos Estéticos\n",
            "Odontologia\n",
            "Tratamentos\n",
            "Vacinas\n",
            "Blog\n",
            "Unidades\n",
            "Calculadora de IMC\n",
            "Teste de Depressão\n",
            "Política de Privacidade\n",
            "Transparência\n",
            "Contato\n",
            "Especialidades\n",
            "Cirurgião Geral\n",
            "Cardiologista\n",
            "Clínico Geral\n",
            "Dermatologista\n",
            "Endocrinologista\n",
            "Gastroenterologista\n",
            "Ginecologista\n",
            "Infectologista\n",
            "Mastologista\n",
            "Neurologista\n",
            "Exames\n",
            "Endoscopia\n",
            "Exame Toxicológico\n",
            "Eletrocardiograma\n",
            "Mamografia\n",
            "Remoção do DIU\n",
            "Raio-X\n",
            "Ressonância Magnética\n",
            "Tomografia Computadorizada\n",
            "Ultrassonografia\n",
            "Colposcopia\n",
            "Os Artigos, Imagens E Informações Apresentadas Neste Site Têm O Propósito Exclusivo De Fornecer Orientação Informativa. Ressaltamos Que Esse Conteúdo Não Deve Ser Considerado Um Substituto Para Aconselhamento Médico Profissional, Diagnóstico Ou Tratamento. Recomendamos Vivamente Buscar A Orientação De Um Profissional De Saúde Para Suas Necessidades Específicas.\n",
            "© Clínica Consulta 2025 todos os direitos reservados\n",
            "\u001b[00m\n"
          ]
        },
        {
          "output_type": "display_data",
          "data": {
            "text/plain": [
              "\u001b[1;32m🤖 Agent: \u001b[0m\u001b[32mMédico\u001b[0m\n",
              "\u001b[37m    Status: \u001b[0m\u001b[1;32mIn Progress\u001b[0m\n",
              "└── \u001b[1;34m🧠 \u001b[0m\u001b[34mThinking...\u001b[0m\n"
            ],
            "text/html": [
              "<pre style=\"white-space:pre;overflow-x:auto;line-height:normal;font-family:Menlo,'DejaVu Sans Mono',consolas,'Courier New',monospace\"><span style=\"color: #008000; text-decoration-color: #008000; font-weight: bold\">🤖 Agent: </span><span style=\"color: #008000; text-decoration-color: #008000\">Médico</span>\n",
              "<span style=\"color: #c0c0c0; text-decoration-color: #c0c0c0\">    Status: </span><span style=\"color: #008000; text-decoration-color: #008000; font-weight: bold\">In Progress</span>\n",
              "└── <span style=\"color: #000080; text-decoration-color: #000080; font-weight: bold\">🧠 </span><span style=\"color: #000080; text-decoration-color: #000080\">Thinking...</span>\n",
              "</pre>\n"
            ]
          },
          "metadata": {}
        },
        {
          "output_type": "display_data",
          "data": {
            "text/plain": [
              "\n"
            ],
            "text/html": [
              "<pre style=\"white-space:pre;overflow-x:auto;line-height:normal;font-family:Menlo,'DejaVu Sans Mono',consolas,'Courier New',monospace\">\n",
              "</pre>\n"
            ]
          },
          "metadata": {}
        },
        {
          "output_type": "display_data",
          "data": {
            "text/plain": [
              "\u001b[1;32m🤖 Agent: \u001b[0m\u001b[32mMédico\u001b[0m\n",
              "\u001b[37m    Status: \u001b[0m\u001b[1;32mIn Progress\u001b[0m\n"
            ],
            "text/html": [
              "<pre style=\"white-space:pre;overflow-x:auto;line-height:normal;font-family:Menlo,'DejaVu Sans Mono',consolas,'Courier New',monospace\"><span style=\"color: #008000; text-decoration-color: #008000; font-weight: bold\">🤖 Agent: </span><span style=\"color: #008000; text-decoration-color: #008000\">Médico</span>\n",
              "<span style=\"color: #c0c0c0; text-decoration-color: #c0c0c0\">    Status: </span><span style=\"color: #008000; text-decoration-color: #008000; font-weight: bold\">In Progress</span>\n",
              "</pre>\n"
            ]
          },
          "metadata": {}
        },
        {
          "output_type": "display_data",
          "data": {
            "text/plain": [
              "\n"
            ],
            "text/html": [
              "<pre style=\"white-space:pre;overflow-x:auto;line-height:normal;font-family:Menlo,'DejaVu Sans Mono',consolas,'Courier New',monospace\">\n",
              "</pre>\n"
            ]
          },
          "metadata": {}
        },
        {
          "output_type": "stream",
          "name": "stdout",
          "text": [
            "\n",
            "\n",
            "\u001b[1m\u001b[95m# Agent:\u001b[00m \u001b[1m\u001b[92mMédico\u001b[00m\n",
            "\u001b[95m## Final Answer:\u001b[00m \u001b[92m\n",
            "Laudo Médico Preliminar\n",
            "\n",
            "Descrição dos sintomas relatados:\n",
            "Você relatou sentir muita dor no abdômen, localizada ao lado direito da barriga. Esse sintoma pode ter diversas causas, que variam de situações simples a condições que exigem atenção médica urgente.\n",
            "\n",
            "Possíveis causas ou condições associadas:\n",
            "Com base em informações médicas atualizadas, as principais causas de dor abdominal no lado direito incluem:\n",
            "\n",
            "1. Apendicite: Inflamação do apêndice, geralmente com dor intensa na parte inferior direita do abdômen, podendo vir acompanhada de febre, náuseas e vômitos. Trata-se de uma emergência médica.\n",
            "2. Cálculos biliares (pedra na vesícula): Dor na parte superior direita do abdômen, especialmente após refeições gordurosas.\n",
            "3. Pedra nos rins: Dor que pode começar na região lombar e irradiar para o lado direito do abdômen, às vezes acompanhada de dificuldade para urinar ou sangue na urina.\n",
            "4. Problemas no fígado: Condições como hepatite ou acúmulo de gordura no fígado podem causar dor na parte superior direita da barriga, além de sintomas como cansaço, icterícia (pele ou olhos amarelados) e alterações na cor das fezes e urina.\n",
            "5. Síndrome do Intestino Irritável: Dores abdominais intermitentes, alterações no hábito intestinal (diarreia ou constipação).\n",
            "6. Cisto ovariano (em mulheres): Dor localizada, especialmente durante o ciclo menstrual, podendo causar inchaço abdominal ou irregularidades menstruais.\n",
            "7. Tensão muscular: Lesões ou esforços físicos podem causar dor, geralmente menos grave, mas que pode limitar atividades.\n",
            "\n",
            "Recomendação preliminar:\n",
            "- Procure atendimento médico o quanto antes, especialmente se a dor for intensa, persistente, ou vier acompanhada de febre, vômitos, dificuldade para urinar, sangue na urina, icterícia, ou alterações importantes nos hábitos intestinais.\n",
            "- Não tome medicamentos por conta própria sem orientação.\n",
            "- Em caso de piora súbita dos sintomas, procure um pronto-socorro imediatamente, pois algumas causas, como apendicite, podem evoluir rapidamente e requerem intervenção urgente.\n",
            "\n",
            "Fontes e referências utilizadas:\n",
            "- Clínica Consulta: “Dor no lado direito da barriga: 7 causas (e o que fazer)” (https://www.clinicaconsulta.com.br/dor-no-lado-direito-da-barriga-7-causas-e-o-que-fazer)\n",
            "- MD.Saúde: “Dor abdominal: 40 causas e 13 sinais de gravidade” (https://www.mdsaude.com/gastroenterologia/dor-na-barriga/)\n",
            "- Passaporte da Saúde: “Dor do lado direito da barriga: principais causas e quando se preocupar” (https://www.passaportedesaude.com.br/dor-do-lado-direito-da-barriga-principais-causas-e-quando-se-preocupar/)\n",
            "\n",
            "Lembre-se: este parecer não substitui uma avaliação presencial com um médico, que poderá solicitar exames e realizar o diagnóstico definitivo. Cuide-se e procure atendimento sem demora se os sintomas persistirem ou se agravarem.\u001b[00m\n",
            "\n",
            "\n"
          ]
        },
        {
          "output_type": "display_data",
          "data": {
            "text/plain": [
              "\u001b[1;36m🚀 Crew: \u001b[0m\u001b[1;36mcrew\u001b[0m\n",
              "└── \u001b[1;33m📋 Task: 0d02df78-d223-4795-a4c7-7c85387cb8a7\u001b[0m\n",
              "    \u001b[37m   Status: \u001b[0m\u001b[2;33mExecuting Task...\u001b[0m\n",
              "    └── \u001b[1;32m🤖 Agent: \u001b[0m\u001b[32mMédico\u001b[0m\n",
              "        \u001b[37m    Status: \u001b[0m\u001b[1;32m✅ Completed\u001b[0m\n"
            ],
            "text/html": [
              "<pre style=\"white-space:pre;overflow-x:auto;line-height:normal;font-family:Menlo,'DejaVu Sans Mono',consolas,'Courier New',monospace\"><span style=\"color: #008080; text-decoration-color: #008080; font-weight: bold\">🚀 Crew: crew</span>\n",
              "└── <span style=\"color: #808000; text-decoration-color: #808000; font-weight: bold\">📋 Task: 0d02df78-d223-4795-a4c7-7c85387cb8a7</span>\n",
              "    <span style=\"color: #c0c0c0; text-decoration-color: #c0c0c0\">   Status: </span><span style=\"color: #bfbf7f; text-decoration-color: #bfbf7f\">Executing Task...</span>\n",
              "    └── <span style=\"color: #008000; text-decoration-color: #008000; font-weight: bold\">🤖 Agent: </span><span style=\"color: #008000; text-decoration-color: #008000\">Médico</span>\n",
              "        <span style=\"color: #c0c0c0; text-decoration-color: #c0c0c0\">    Status: </span><span style=\"color: #008000; text-decoration-color: #008000; font-weight: bold\">✅ Completed</span>\n",
              "</pre>\n"
            ]
          },
          "metadata": {}
        },
        {
          "output_type": "display_data",
          "data": {
            "text/plain": [
              "\n"
            ],
            "text/html": [
              "<pre style=\"white-space:pre;overflow-x:auto;line-height:normal;font-family:Menlo,'DejaVu Sans Mono',consolas,'Courier New',monospace\">\n",
              "</pre>\n"
            ]
          },
          "metadata": {}
        },
        {
          "output_type": "display_data",
          "data": {
            "text/plain": [
              "\u001b[1;36m🚀 Crew: \u001b[0m\u001b[1;36mcrew\u001b[0m\n",
              "└── \u001b[1;32m📋 Task: 0d02df78-d223-4795-a4c7-7c85387cb8a7\u001b[0m\n",
              "    \u001b[37m   Assigned to: \u001b[0m\u001b[32mMédico\u001b[0m\n",
              "    \u001b[37m   Status: \u001b[0m\u001b[1;32m✅ Completed\u001b[0m\n",
              "    └── \u001b[1;32m🤖 Agent: \u001b[0m\u001b[32mMédico\u001b[0m\n",
              "        \u001b[37m    Status: \u001b[0m\u001b[1;32m✅ Completed\u001b[0m\n"
            ],
            "text/html": [
              "<pre style=\"white-space:pre;overflow-x:auto;line-height:normal;font-family:Menlo,'DejaVu Sans Mono',consolas,'Courier New',monospace\"><span style=\"color: #008080; text-decoration-color: #008080; font-weight: bold\">🚀 Crew: crew</span>\n",
              "└── <span style=\"color: #008000; text-decoration-color: #008000; font-weight: bold\">📋 Task: 0d02df78-d223-4795-a4c7-7c85387cb8a7</span>\n",
              "    <span style=\"color: #c0c0c0; text-decoration-color: #c0c0c0\">   Assigned to: </span><span style=\"color: #008000; text-decoration-color: #008000\">Médico</span>\n",
              "    <span style=\"color: #c0c0c0; text-decoration-color: #c0c0c0\">   Status: </span><span style=\"color: #008000; text-decoration-color: #008000; font-weight: bold\">✅ Completed</span>\n",
              "    └── <span style=\"color: #008000; text-decoration-color: #008000; font-weight: bold\">🤖 Agent: </span><span style=\"color: #008000; text-decoration-color: #008000\">Médico</span>\n",
              "        <span style=\"color: #c0c0c0; text-decoration-color: #c0c0c0\">    Status: </span><span style=\"color: #008000; text-decoration-color: #008000; font-weight: bold\">✅ Completed</span>\n",
              "</pre>\n"
            ]
          },
          "metadata": {}
        },
        {
          "output_type": "display_data",
          "data": {
            "text/plain": [
              "\u001b[32m╭─\u001b[0m\u001b[32m───────────────────────────────────────────────\u001b[0m\u001b[32m Task Completion \u001b[0m\u001b[32m───────────────────────────────────────────────\u001b[0m\u001b[32m─╮\u001b[0m\n",
              "\u001b[32m│\u001b[0m                                                                                                                 \u001b[32m│\u001b[0m\n",
              "\u001b[32m│\u001b[0m  \u001b[1;32mTask Completed\u001b[0m                                                                                                 \u001b[32m│\u001b[0m\n",
              "\u001b[32m│\u001b[0m  \u001b[37mName: \u001b[0m\u001b[32m0d02df78-d223-4795-a4c7-7c85387cb8a7\u001b[0m                                                                     \u001b[32m│\u001b[0m\n",
              "\u001b[32m│\u001b[0m  \u001b[37mAgent: \u001b[0m\u001b[32mMédico\u001b[0m                                                                                                  \u001b[32m│\u001b[0m\n",
              "\u001b[32m│\u001b[0m                                                                                                                 \u001b[32m│\u001b[0m\n",
              "\u001b[32m│\u001b[0m                                                                                                                 \u001b[32m│\u001b[0m\n",
              "\u001b[32m╰─────────────────────────────────────────────────────────────────────────────────────────────────────────────────╯\u001b[0m\n"
            ],
            "text/html": [
              "<pre style=\"white-space:pre;overflow-x:auto;line-height:normal;font-family:Menlo,'DejaVu Sans Mono',consolas,'Courier New',monospace\"><span style=\"color: #008000; text-decoration-color: #008000\">╭──────────────────────────────────────────────── Task Completion ────────────────────────────────────────────────╮</span>\n",
              "<span style=\"color: #008000; text-decoration-color: #008000\">│</span>                                                                                                                 <span style=\"color: #008000; text-decoration-color: #008000\">│</span>\n",
              "<span style=\"color: #008000; text-decoration-color: #008000\">│</span>  <span style=\"color: #008000; text-decoration-color: #008000; font-weight: bold\">Task Completed</span>                                                                                                 <span style=\"color: #008000; text-decoration-color: #008000\">│</span>\n",
              "<span style=\"color: #008000; text-decoration-color: #008000\">│</span>  <span style=\"color: #c0c0c0; text-decoration-color: #c0c0c0\">Name: </span><span style=\"color: #008000; text-decoration-color: #008000\">0d02df78-d223-4795-a4c7-7c85387cb8a7</span>                                                                     <span style=\"color: #008000; text-decoration-color: #008000\">│</span>\n",
              "<span style=\"color: #008000; text-decoration-color: #008000\">│</span>  <span style=\"color: #c0c0c0; text-decoration-color: #c0c0c0\">Agent: </span><span style=\"color: #008000; text-decoration-color: #008000\">Médico</span>                                                                                                  <span style=\"color: #008000; text-decoration-color: #008000\">│</span>\n",
              "<span style=\"color: #008000; text-decoration-color: #008000\">│</span>                                                                                                                 <span style=\"color: #008000; text-decoration-color: #008000\">│</span>\n",
              "<span style=\"color: #008000; text-decoration-color: #008000\">│</span>                                                                                                                 <span style=\"color: #008000; text-decoration-color: #008000\">│</span>\n",
              "<span style=\"color: #008000; text-decoration-color: #008000\">╰─────────────────────────────────────────────────────────────────────────────────────────────────────────────────╯</span>\n",
              "</pre>\n"
            ]
          },
          "metadata": {}
        },
        {
          "output_type": "display_data",
          "data": {
            "text/plain": [
              "\n"
            ],
            "text/html": [
              "<pre style=\"white-space:pre;overflow-x:auto;line-height:normal;font-family:Menlo,'DejaVu Sans Mono',consolas,'Courier New',monospace\">\n",
              "</pre>\n"
            ]
          },
          "metadata": {}
        },
        {
          "output_type": "display_data",
          "data": {
            "text/plain": [
              "\u001b[1;36m🚀 Crew: \u001b[0m\u001b[1;36mcrew\u001b[0m\n",
              "├── \u001b[1;32m📋 Task: 0d02df78-d223-4795-a4c7-7c85387cb8a7\u001b[0m\n",
              "│   \u001b[37m   Assigned to: \u001b[0m\u001b[32mMédico\u001b[0m\n",
              "│   \u001b[37m   Status: \u001b[0m\u001b[1;32m✅ Completed\u001b[0m\n",
              "│   └── \u001b[1;32m🤖 Agent: \u001b[0m\u001b[32mMédico\u001b[0m\n",
              "│       \u001b[37m    Status: \u001b[0m\u001b[1;32m✅ Completed\u001b[0m\n",
              "└── \u001b[1;33m📋 Task: bb3e5549-79fb-42c1-b599-7a6ec86445fc\u001b[0m\n",
              "    \u001b[37m   Status: \u001b[0m\u001b[2;33mExecuting Task...\u001b[0m\n"
            ],
            "text/html": [
              "<pre style=\"white-space:pre;overflow-x:auto;line-height:normal;font-family:Menlo,'DejaVu Sans Mono',consolas,'Courier New',monospace\"><span style=\"color: #008080; text-decoration-color: #008080; font-weight: bold\">🚀 Crew: crew</span>\n",
              "├── <span style=\"color: #008000; text-decoration-color: #008000; font-weight: bold\">📋 Task: 0d02df78-d223-4795-a4c7-7c85387cb8a7</span>\n",
              "│   <span style=\"color: #c0c0c0; text-decoration-color: #c0c0c0\">   Assigned to: </span><span style=\"color: #008000; text-decoration-color: #008000\">Médico</span>\n",
              "│   <span style=\"color: #c0c0c0; text-decoration-color: #c0c0c0\">   Status: </span><span style=\"color: #008000; text-decoration-color: #008000; font-weight: bold\">✅ Completed</span>\n",
              "│   └── <span style=\"color: #008000; text-decoration-color: #008000; font-weight: bold\">🤖 Agent: </span><span style=\"color: #008000; text-decoration-color: #008000\">Médico</span>\n",
              "│       <span style=\"color: #c0c0c0; text-decoration-color: #c0c0c0\">    Status: </span><span style=\"color: #008000; text-decoration-color: #008000; font-weight: bold\">✅ Completed</span>\n",
              "└── <span style=\"color: #808000; text-decoration-color: #808000; font-weight: bold\">📋 Task: bb3e5549-79fb-42c1-b599-7a6ec86445fc</span>\n",
              "    <span style=\"color: #c0c0c0; text-decoration-color: #c0c0c0\">   Status: </span><span style=\"color: #bfbf7f; text-decoration-color: #bfbf7f\">Executing Task...</span>\n",
              "</pre>\n"
            ]
          },
          "metadata": {}
        },
        {
          "output_type": "display_data",
          "data": {
            "text/plain": [
              "\n"
            ],
            "text/html": [
              "<pre style=\"white-space:pre;overflow-x:auto;line-height:normal;font-family:Menlo,'DejaVu Sans Mono',consolas,'Courier New',monospace\">\n",
              "</pre>\n"
            ]
          },
          "metadata": {}
        },
        {
          "output_type": "display_data",
          "data": {
            "text/plain": [
              "\u001b[1;36m🚀 Crew: \u001b[0m\u001b[1;36mcrew\u001b[0m\n",
              "├── \u001b[1;32m📋 Task: 0d02df78-d223-4795-a4c7-7c85387cb8a7\u001b[0m\n",
              "│   \u001b[37m   Assigned to: \u001b[0m\u001b[32mMédico\u001b[0m\n",
              "│   \u001b[37m   Status: \u001b[0m\u001b[1;32m✅ Completed\u001b[0m\n",
              "│   └── \u001b[1;32m🤖 Agent: \u001b[0m\u001b[32mMédico\u001b[0m\n",
              "│       \u001b[37m    Status: \u001b[0m\u001b[1;32m✅ Completed\u001b[0m\n",
              "└── \u001b[1;33m📋 Task: bb3e5549-79fb-42c1-b599-7a6ec86445fc\u001b[0m\n",
              "    \u001b[37m   Status: \u001b[0m\u001b[2;33mExecuting Task...\u001b[0m\n",
              "    └── \u001b[1;32m🤖 Agent: \u001b[0m\u001b[32mMédico\u001b[0m\n",
              "        \u001b[37m    Status: \u001b[0m\u001b[1;32mIn Progress\u001b[0m\n"
            ],
            "text/html": [
              "<pre style=\"white-space:pre;overflow-x:auto;line-height:normal;font-family:Menlo,'DejaVu Sans Mono',consolas,'Courier New',monospace\"><span style=\"color: #008080; text-decoration-color: #008080; font-weight: bold\">🚀 Crew: crew</span>\n",
              "├── <span style=\"color: #008000; text-decoration-color: #008000; font-weight: bold\">📋 Task: 0d02df78-d223-4795-a4c7-7c85387cb8a7</span>\n",
              "│   <span style=\"color: #c0c0c0; text-decoration-color: #c0c0c0\">   Assigned to: </span><span style=\"color: #008000; text-decoration-color: #008000\">Médico</span>\n",
              "│   <span style=\"color: #c0c0c0; text-decoration-color: #c0c0c0\">   Status: </span><span style=\"color: #008000; text-decoration-color: #008000; font-weight: bold\">✅ Completed</span>\n",
              "│   └── <span style=\"color: #008000; text-decoration-color: #008000; font-weight: bold\">🤖 Agent: </span><span style=\"color: #008000; text-decoration-color: #008000\">Médico</span>\n",
              "│       <span style=\"color: #c0c0c0; text-decoration-color: #c0c0c0\">    Status: </span><span style=\"color: #008000; text-decoration-color: #008000; font-weight: bold\">✅ Completed</span>\n",
              "└── <span style=\"color: #808000; text-decoration-color: #808000; font-weight: bold\">📋 Task: bb3e5549-79fb-42c1-b599-7a6ec86445fc</span>\n",
              "    <span style=\"color: #c0c0c0; text-decoration-color: #c0c0c0\">   Status: </span><span style=\"color: #bfbf7f; text-decoration-color: #bfbf7f\">Executing Task...</span>\n",
              "    └── <span style=\"color: #008000; text-decoration-color: #008000; font-weight: bold\">🤖 Agent: </span><span style=\"color: #008000; text-decoration-color: #008000\">Médico</span>\n",
              "        <span style=\"color: #c0c0c0; text-decoration-color: #c0c0c0\">    Status: </span><span style=\"color: #008000; text-decoration-color: #008000; font-weight: bold\">In Progress</span>\n",
              "</pre>\n"
            ]
          },
          "metadata": {}
        },
        {
          "output_type": "display_data",
          "data": {
            "text/plain": [
              "\n"
            ],
            "text/html": [
              "<pre style=\"white-space:pre;overflow-x:auto;line-height:normal;font-family:Menlo,'DejaVu Sans Mono',consolas,'Courier New',monospace\">\n",
              "</pre>\n"
            ]
          },
          "metadata": {}
        },
        {
          "output_type": "stream",
          "name": "stdout",
          "text": [
            "\u001b[1m\u001b[95m# Agent:\u001b[00m \u001b[1m\u001b[92mMédico\u001b[00m\n",
            "\u001b[95m## Task:\u001b[00m \u001b[92m\n",
            "        Com base nos sintomas analisados, elaborar um laudo médico estruturado e profissional.\n",
            "        O laudo deve oferecer sugestões baseadas em evidências, prezando pela clareza e apoio ao paciente.\n",
            "\n",
            "        O documento deve usar:\n",
            "        - Cabeçalhos (Markdown `#`, `##`, `###`).\n",
            "        - Linhas horizontais (`---`) para separar seções.\n",
            "        - Listas com marcadores claros (`-` ou `*`).\n",
            "        - Texto em **negrito** e _itálico_ para enfatizar pontos-chave.\n",
            "        - Blocos de destaque, quando necessário, com citações Markdown (`> texto`).\n",
            "\n",
            "    \u001b[00m\n",
            "\n",
            "\n",
            "\u001b[1m\u001b[95m# Agent:\u001b[00m \u001b[1m\u001b[92mMédico\u001b[00m\n",
            "\u001b[95m## Final Answer:\u001b[00m \u001b[92m\n",
            "# Laudo Médico Preliminar\n",
            "\n",
            "---\n",
            "\n",
            "## **Resumo dos Sintomas Apresentados**\n",
            "\n",
            "Você relatou sentir **dor intensa no abdômen**, localizada ao _lado direito da barriga_. Este sintoma pode estar associado a diversas condições, algumas das quais exigem atenção médica imediata. Outros sintomas que podem estar presentes (mas não foram relatados) e que aumentam a gravidade incluem: febre, náuseas, vômitos, dificuldade para urinar, sangue na urina, icterícia (pele ou olhos amarelados) e alterações no hábito intestinal.\n",
            "\n",
            "---\n",
            "\n",
            "## **Possíveis Causas ou Diagnósticos Diferenciais**\n",
            "\n",
            "Com base em informações médicas recentes e confiáveis, as principais causas para dor abdominal no lado direito incluem:\n",
            "\n",
            "- **Apendicite**  \n",
            "  > Inflamação do apêndice, geralmente com dor intensa na parte inferior direita do abdômen, podendo vir acompanhada de febre, náuseas e vômitos. _Emergência médica!_\n",
            "\n",
            "- **Cálculos biliares (pedra na vesícula)**  \n",
            "  > Dor na parte superior direita do abdômen, especialmente após refeições gordurosas.\n",
            "\n",
            "- **Pedra nos rins**  \n",
            "  > Dor que pode começar na região lombar e irradiar para o lado direito do abdômen, às vezes acompanhada de dificuldade para urinar ou sangue na urina.\n",
            "\n",
            "- **Problemas no fígado**  \n",
            "  > Hepatite ou acúmulo de gordura no fígado podem causar dor na parte superior direita da barriga, além de sintomas como cansaço, icterícia e alterações na cor das fezes e urina.\n",
            "\n",
            "- **Síndrome do Intestino Irritável**  \n",
            "  > Dores abdominais intermitentes, alterações no hábito intestinal (diarreia ou constipação).\n",
            "\n",
            "- **Cisto ovariano (em mulheres)**  \n",
            "  > Dor localizada, especialmente durante o ciclo menstrual, podendo causar inchaço abdominal ou irregularidades menstruais.\n",
            "\n",
            "- **Tensão muscular**  \n",
            "  > Lesões ou esforços físicos podem causar dor, geralmente menos grave, mas que pode limitar atividades.\n",
            "\n",
            "---\n",
            "\n",
            "## **Indicação de Medicamentos**\n",
            "\n",
            "> **Atenção:** _Não é recomendado iniciar qualquer medicamento sem avaliação médica presencial, pois o tratamento depende da causa exata da dor._  \n",
            "> Em situações de dor abdominal aguda, a automedicação pode mascarar sintomas importantes e atrasar o diagnóstico de condições graves, como apendicite.\n",
            "\n",
            "---\n",
            "\n",
            "## **Recomendações Clínicas e Orientações de Cuidado**\n",
            "\n",
            "- **Procure atendimento médico imediatamente** se a dor for intensa, persistente, ou vier acompanhada de:\n",
            "  - Febre\n",
            "  - Vômitos\n",
            "  - Dificuldade para urinar\n",
            "  - Sangue na urina\n",
            "  - Icterícia (pele ou olhos amarelados)\n",
            "  - Alterações importantes nos hábitos intestinais\n",
            "\n",
            "- **Evite automedicação.**  \n",
            "  Não utilize analgésicos, anti-inflamatórios ou antibióticos sem prescrição médica.\n",
            "\n",
            "- **Observe a evolução dos sintomas.**  \n",
            "  Anote se surgirem novos sintomas ou se houver piora do quadro.\n",
            "\n",
            "- **Em caso de piora súbita**, procure um pronto-socorro imediatamente, pois algumas causas (como apendicite) podem evoluir rapidamente e requerem intervenção urgente.\n",
            "\n",
            "---\n",
            "\n",
            "## **Observações Importantes**\n",
            "\n",
            "> **Este laudo é preliminar e não substitui uma avaliação presencial com um médico.**  \n",
            "> O diagnóstico definitivo depende de exame físico, histórico detalhado e, muitas vezes, exames laboratoriais e de imagem.\n",
            "\n",
            "- _Evite esforços físicos até avaliação médica._\n",
            "- _Mantenha-se hidratado, a menos que haja orientação médica contrária._\n",
            "- _Se for mulher e houver atraso menstrual ou suspeita de gravidez, informe ao médico._\n",
            "\n",
            "---\n",
            "\n",
            "## **Fontes Utilizadas**\n",
            "\n",
            "- Clínica Consulta: [Dor no lado direito da barriga: 7 causas (e o que fazer)](https://www.clinicaconsulta.com.br/dor-no-lado-direito-da-barriga-7-causas-e-o-que-fazer)\n",
            "- MD.Saúde: [Dor abdominal: 40 causas e 13 sinais de gravidade](https://www.mdsaude.com/gastroenterologia/dor-na-barriga/)\n",
            "- Passaporte da Saúde: [Dor do lado direito da barriga: principais causas e quando se preocupar](https://www.passaportedesaude.com.br/dor-do-lado-direito-da-barriga-principais-causas-e-quando-se-preocupar/)\n",
            "\n",
            "---\n",
            "\n",
            "> **Em caso de dúvida ou agravamento dos sintomas, procure atendimento médico imediatamente. Sua saúde é prioridade!**\u001b[00m\n",
            "\n",
            "\n"
          ]
        },
        {
          "output_type": "display_data",
          "data": {
            "text/plain": [
              "\u001b[1;36m🚀 Crew: \u001b[0m\u001b[1;36mcrew\u001b[0m\n",
              "├── \u001b[1;32m📋 Task: 0d02df78-d223-4795-a4c7-7c85387cb8a7\u001b[0m\n",
              "│   \u001b[37m   Assigned to: \u001b[0m\u001b[32mMédico\u001b[0m\n",
              "│   \u001b[37m   Status: \u001b[0m\u001b[1;32m✅ Completed\u001b[0m\n",
              "│   └── \u001b[1;32m🤖 Agent: \u001b[0m\u001b[32mMédico\u001b[0m\n",
              "│       \u001b[37m    Status: \u001b[0m\u001b[1;32m✅ Completed\u001b[0m\n",
              "└── \u001b[1;33m📋 Task: bb3e5549-79fb-42c1-b599-7a6ec86445fc\u001b[0m\n",
              "    \u001b[37m   Status: \u001b[0m\u001b[2;33mExecuting Task...\u001b[0m\n",
              "    └── \u001b[1;32m🤖 Agent: \u001b[0m\u001b[32mMédico\u001b[0m\n",
              "        \u001b[37m    Status: \u001b[0m\u001b[1;32m✅ Completed\u001b[0m\n"
            ],
            "text/html": [
              "<pre style=\"white-space:pre;overflow-x:auto;line-height:normal;font-family:Menlo,'DejaVu Sans Mono',consolas,'Courier New',monospace\"><span style=\"color: #008080; text-decoration-color: #008080; font-weight: bold\">🚀 Crew: crew</span>\n",
              "├── <span style=\"color: #008000; text-decoration-color: #008000; font-weight: bold\">📋 Task: 0d02df78-d223-4795-a4c7-7c85387cb8a7</span>\n",
              "│   <span style=\"color: #c0c0c0; text-decoration-color: #c0c0c0\">   Assigned to: </span><span style=\"color: #008000; text-decoration-color: #008000\">Médico</span>\n",
              "│   <span style=\"color: #c0c0c0; text-decoration-color: #c0c0c0\">   Status: </span><span style=\"color: #008000; text-decoration-color: #008000; font-weight: bold\">✅ Completed</span>\n",
              "│   └── <span style=\"color: #008000; text-decoration-color: #008000; font-weight: bold\">🤖 Agent: </span><span style=\"color: #008000; text-decoration-color: #008000\">Médico</span>\n",
              "│       <span style=\"color: #c0c0c0; text-decoration-color: #c0c0c0\">    Status: </span><span style=\"color: #008000; text-decoration-color: #008000; font-weight: bold\">✅ Completed</span>\n",
              "└── <span style=\"color: #808000; text-decoration-color: #808000; font-weight: bold\">📋 Task: bb3e5549-79fb-42c1-b599-7a6ec86445fc</span>\n",
              "    <span style=\"color: #c0c0c0; text-decoration-color: #c0c0c0\">   Status: </span><span style=\"color: #bfbf7f; text-decoration-color: #bfbf7f\">Executing Task...</span>\n",
              "    └── <span style=\"color: #008000; text-decoration-color: #008000; font-weight: bold\">🤖 Agent: </span><span style=\"color: #008000; text-decoration-color: #008000\">Médico</span>\n",
              "        <span style=\"color: #c0c0c0; text-decoration-color: #c0c0c0\">    Status: </span><span style=\"color: #008000; text-decoration-color: #008000; font-weight: bold\">✅ Completed</span>\n",
              "</pre>\n"
            ]
          },
          "metadata": {}
        },
        {
          "output_type": "display_data",
          "data": {
            "text/plain": [
              "\n"
            ],
            "text/html": [
              "<pre style=\"white-space:pre;overflow-x:auto;line-height:normal;font-family:Menlo,'DejaVu Sans Mono',consolas,'Courier New',monospace\">\n",
              "</pre>\n"
            ]
          },
          "metadata": {}
        },
        {
          "output_type": "display_data",
          "data": {
            "text/plain": [
              "\u001b[1;36m🚀 Crew: \u001b[0m\u001b[1;36mcrew\u001b[0m\n",
              "├── \u001b[1;32m📋 Task: 0d02df78-d223-4795-a4c7-7c85387cb8a7\u001b[0m\n",
              "│   \u001b[37m   Assigned to: \u001b[0m\u001b[32mMédico\u001b[0m\n",
              "│   \u001b[37m   Status: \u001b[0m\u001b[1;32m✅ Completed\u001b[0m\n",
              "│   └── \u001b[1;32m🤖 Agent: \u001b[0m\u001b[32mMédico\u001b[0m\n",
              "│       \u001b[37m    Status: \u001b[0m\u001b[1;32m✅ Completed\u001b[0m\n",
              "└── \u001b[1;32m📋 Task: bb3e5549-79fb-42c1-b599-7a6ec86445fc\u001b[0m\n",
              "    \u001b[37m   Assigned to: \u001b[0m\u001b[32mMédico\u001b[0m\n",
              "    \u001b[37m   Status: \u001b[0m\u001b[1;32m✅ Completed\u001b[0m\n",
              "    └── \u001b[1;32m🤖 Agent: \u001b[0m\u001b[32mMédico\u001b[0m\n",
              "        \u001b[37m    Status: \u001b[0m\u001b[1;32m✅ Completed\u001b[0m\n"
            ],
            "text/html": [
              "<pre style=\"white-space:pre;overflow-x:auto;line-height:normal;font-family:Menlo,'DejaVu Sans Mono',consolas,'Courier New',monospace\"><span style=\"color: #008080; text-decoration-color: #008080; font-weight: bold\">🚀 Crew: crew</span>\n",
              "├── <span style=\"color: #008000; text-decoration-color: #008000; font-weight: bold\">📋 Task: 0d02df78-d223-4795-a4c7-7c85387cb8a7</span>\n",
              "│   <span style=\"color: #c0c0c0; text-decoration-color: #c0c0c0\">   Assigned to: </span><span style=\"color: #008000; text-decoration-color: #008000\">Médico</span>\n",
              "│   <span style=\"color: #c0c0c0; text-decoration-color: #c0c0c0\">   Status: </span><span style=\"color: #008000; text-decoration-color: #008000; font-weight: bold\">✅ Completed</span>\n",
              "│   └── <span style=\"color: #008000; text-decoration-color: #008000; font-weight: bold\">🤖 Agent: </span><span style=\"color: #008000; text-decoration-color: #008000\">Médico</span>\n",
              "│       <span style=\"color: #c0c0c0; text-decoration-color: #c0c0c0\">    Status: </span><span style=\"color: #008000; text-decoration-color: #008000; font-weight: bold\">✅ Completed</span>\n",
              "└── <span style=\"color: #008000; text-decoration-color: #008000; font-weight: bold\">📋 Task: bb3e5549-79fb-42c1-b599-7a6ec86445fc</span>\n",
              "    <span style=\"color: #c0c0c0; text-decoration-color: #c0c0c0\">   Assigned to: </span><span style=\"color: #008000; text-decoration-color: #008000\">Médico</span>\n",
              "    <span style=\"color: #c0c0c0; text-decoration-color: #c0c0c0\">   Status: </span><span style=\"color: #008000; text-decoration-color: #008000; font-weight: bold\">✅ Completed</span>\n",
              "    └── <span style=\"color: #008000; text-decoration-color: #008000; font-weight: bold\">🤖 Agent: </span><span style=\"color: #008000; text-decoration-color: #008000\">Médico</span>\n",
              "        <span style=\"color: #c0c0c0; text-decoration-color: #c0c0c0\">    Status: </span><span style=\"color: #008000; text-decoration-color: #008000; font-weight: bold\">✅ Completed</span>\n",
              "</pre>\n"
            ]
          },
          "metadata": {}
        },
        {
          "output_type": "display_data",
          "data": {
            "text/plain": [
              "\u001b[32m╭─\u001b[0m\u001b[32m───────────────────────────────────────────────\u001b[0m\u001b[32m Task Completion \u001b[0m\u001b[32m───────────────────────────────────────────────\u001b[0m\u001b[32m─╮\u001b[0m\n",
              "\u001b[32m│\u001b[0m                                                                                                                 \u001b[32m│\u001b[0m\n",
              "\u001b[32m│\u001b[0m  \u001b[1;32mTask Completed\u001b[0m                                                                                                 \u001b[32m│\u001b[0m\n",
              "\u001b[32m│\u001b[0m  \u001b[37mName: \u001b[0m\u001b[32mbb3e5549-79fb-42c1-b599-7a6ec86445fc\u001b[0m                                                                     \u001b[32m│\u001b[0m\n",
              "\u001b[32m│\u001b[0m  \u001b[37mAgent: \u001b[0m\u001b[32mMédico\u001b[0m                                                                                                  \u001b[32m│\u001b[0m\n",
              "\u001b[32m│\u001b[0m                                                                                                                 \u001b[32m│\u001b[0m\n",
              "\u001b[32m│\u001b[0m                                                                                                                 \u001b[32m│\u001b[0m\n",
              "\u001b[32m╰─────────────────────────────────────────────────────────────────────────────────────────────────────────────────╯\u001b[0m\n"
            ],
            "text/html": [
              "<pre style=\"white-space:pre;overflow-x:auto;line-height:normal;font-family:Menlo,'DejaVu Sans Mono',consolas,'Courier New',monospace\"><span style=\"color: #008000; text-decoration-color: #008000\">╭──────────────────────────────────────────────── Task Completion ────────────────────────────────────────────────╮</span>\n",
              "<span style=\"color: #008000; text-decoration-color: #008000\">│</span>                                                                                                                 <span style=\"color: #008000; text-decoration-color: #008000\">│</span>\n",
              "<span style=\"color: #008000; text-decoration-color: #008000\">│</span>  <span style=\"color: #008000; text-decoration-color: #008000; font-weight: bold\">Task Completed</span>                                                                                                 <span style=\"color: #008000; text-decoration-color: #008000\">│</span>\n",
              "<span style=\"color: #008000; text-decoration-color: #008000\">│</span>  <span style=\"color: #c0c0c0; text-decoration-color: #c0c0c0\">Name: </span><span style=\"color: #008000; text-decoration-color: #008000\">bb3e5549-79fb-42c1-b599-7a6ec86445fc</span>                                                                     <span style=\"color: #008000; text-decoration-color: #008000\">│</span>\n",
              "<span style=\"color: #008000; text-decoration-color: #008000\">│</span>  <span style=\"color: #c0c0c0; text-decoration-color: #c0c0c0\">Agent: </span><span style=\"color: #008000; text-decoration-color: #008000\">Médico</span>                                                                                                  <span style=\"color: #008000; text-decoration-color: #008000\">│</span>\n",
              "<span style=\"color: #008000; text-decoration-color: #008000\">│</span>                                                                                                                 <span style=\"color: #008000; text-decoration-color: #008000\">│</span>\n",
              "<span style=\"color: #008000; text-decoration-color: #008000\">│</span>                                                                                                                 <span style=\"color: #008000; text-decoration-color: #008000\">│</span>\n",
              "<span style=\"color: #008000; text-decoration-color: #008000\">╰─────────────────────────────────────────────────────────────────────────────────────────────────────────────────╯</span>\n",
              "</pre>\n"
            ]
          },
          "metadata": {}
        },
        {
          "output_type": "display_data",
          "data": {
            "text/plain": [
              "\n"
            ],
            "text/html": [
              "<pre style=\"white-space:pre;overflow-x:auto;line-height:normal;font-family:Menlo,'DejaVu Sans Mono',consolas,'Courier New',monospace\">\n",
              "</pre>\n"
            ]
          },
          "metadata": {}
        },
        {
          "output_type": "display_data",
          "data": {
            "text/plain": [
              "\u001b[32m╭─\u001b[0m\u001b[32m───────────────────────────────────────────────\u001b[0m\u001b[32m Crew Completion \u001b[0m\u001b[32m───────────────────────────────────────────────\u001b[0m\u001b[32m─╮\u001b[0m\n",
              "\u001b[32m│\u001b[0m                                                                                                                 \u001b[32m│\u001b[0m\n",
              "\u001b[32m│\u001b[0m  \u001b[1;32mCrew Execution Completed\u001b[0m                                                                                       \u001b[32m│\u001b[0m\n",
              "\u001b[32m│\u001b[0m  \u001b[37mName: \u001b[0m\u001b[32mcrew\u001b[0m                                                                                                     \u001b[32m│\u001b[0m\n",
              "\u001b[32m│\u001b[0m  \u001b[37mID: \u001b[0m\u001b[32m0163a885-dcab-4f92-80ec-4cb44ad50e00\u001b[0m                                                                       \u001b[32m│\u001b[0m\n",
              "\u001b[32m│\u001b[0m                                                                                                                 \u001b[32m│\u001b[0m\n",
              "\u001b[32m│\u001b[0m                                                                                                                 \u001b[32m│\u001b[0m\n",
              "\u001b[32m╰─────────────────────────────────────────────────────────────────────────────────────────────────────────────────╯\u001b[0m\n"
            ],
            "text/html": [
              "<pre style=\"white-space:pre;overflow-x:auto;line-height:normal;font-family:Menlo,'DejaVu Sans Mono',consolas,'Courier New',monospace\"><span style=\"color: #008000; text-decoration-color: #008000\">╭──────────────────────────────────────────────── Crew Completion ────────────────────────────────────────────────╮</span>\n",
              "<span style=\"color: #008000; text-decoration-color: #008000\">│</span>                                                                                                                 <span style=\"color: #008000; text-decoration-color: #008000\">│</span>\n",
              "<span style=\"color: #008000; text-decoration-color: #008000\">│</span>  <span style=\"color: #008000; text-decoration-color: #008000; font-weight: bold\">Crew Execution Completed</span>                                                                                       <span style=\"color: #008000; text-decoration-color: #008000\">│</span>\n",
              "<span style=\"color: #008000; text-decoration-color: #008000\">│</span>  <span style=\"color: #c0c0c0; text-decoration-color: #c0c0c0\">Name: </span><span style=\"color: #008000; text-decoration-color: #008000\">crew</span>                                                                                                     <span style=\"color: #008000; text-decoration-color: #008000\">│</span>\n",
              "<span style=\"color: #008000; text-decoration-color: #008000\">│</span>  <span style=\"color: #c0c0c0; text-decoration-color: #c0c0c0\">ID: </span><span style=\"color: #008000; text-decoration-color: #008000\">0163a885-dcab-4f92-80ec-4cb44ad50e00</span>                                                                       <span style=\"color: #008000; text-decoration-color: #008000\">│</span>\n",
              "<span style=\"color: #008000; text-decoration-color: #008000\">│</span>                                                                                                                 <span style=\"color: #008000; text-decoration-color: #008000\">│</span>\n",
              "<span style=\"color: #008000; text-decoration-color: #008000\">│</span>                                                                                                                 <span style=\"color: #008000; text-decoration-color: #008000\">│</span>\n",
              "<span style=\"color: #008000; text-decoration-color: #008000\">╰─────────────────────────────────────────────────────────────────────────────────────────────────────────────────╯</span>\n",
              "</pre>\n"
            ]
          },
          "metadata": {}
        },
        {
          "output_type": "display_data",
          "data": {
            "text/plain": [
              "\n"
            ],
            "text/html": [
              "<pre style=\"white-space:pre;overflow-x:auto;line-height:normal;font-family:Menlo,'DejaVu Sans Mono',consolas,'Courier New',monospace\">\n",
              "</pre>\n"
            ]
          },
          "metadata": {}
        }
      ]
    },
    {
      "cell_type": "code",
      "source": [
        "resultado"
      ],
      "metadata": {
        "colab": {
          "base_uri": "https://localhost:8080/"
        },
        "id": "KlggC_qBtREJ",
        "outputId": "fcd1bade-2761-435f-ec4b-089fa37e0cd0"
      },
      "execution_count": null,
      "outputs": [
        {
          "output_type": "execute_result",
          "data": {
            "text/plain": [
              "CrewOutput(raw='# Laudo Médico Preliminar\\n\\n---\\n\\n## **Resumo dos Sintomas Apresentados**\\n\\nVocê relatou sentir **dor intensa no abdômen**, localizada ao _lado direito da barriga_. Este sintoma pode estar associado a diversas condições, algumas das quais exigem atenção médica imediata. Outros sintomas que podem estar presentes (mas não foram relatados) e que aumentam a gravidade incluem: febre, náuseas, vômitos, dificuldade para urinar, sangue na urina, icterícia (pele ou olhos amarelados) e alterações no hábito intestinal.\\n\\n---\\n\\n## **Possíveis Causas ou Diagnósticos Diferenciais**\\n\\nCom base em informações médicas recentes e confiáveis, as principais causas para dor abdominal no lado direito incluem:\\n\\n- **Apendicite**  \\n  > Inflamação do apêndice, geralmente com dor intensa na parte inferior direita do abdômen, podendo vir acompanhada de febre, náuseas e vômitos. _Emergência médica!_\\n\\n- **Cálculos biliares (pedra na vesícula)**  \\n  > Dor na parte superior direita do abdômen, especialmente após refeições gordurosas.\\n\\n- **Pedra nos rins**  \\n  > Dor que pode começar na região lombar e irradiar para o lado direito do abdômen, às vezes acompanhada de dificuldade para urinar ou sangue na urina.\\n\\n- **Problemas no fígado**  \\n  > Hepatite ou acúmulo de gordura no fígado podem causar dor na parte superior direita da barriga, além de sintomas como cansaço, icterícia e alterações na cor das fezes e urina.\\n\\n- **Síndrome do Intestino Irritável**  \\n  > Dores abdominais intermitentes, alterações no hábito intestinal (diarreia ou constipação).\\n\\n- **Cisto ovariano (em mulheres)**  \\n  > Dor localizada, especialmente durante o ciclo menstrual, podendo causar inchaço abdominal ou irregularidades menstruais.\\n\\n- **Tensão muscular**  \\n  > Lesões ou esforços físicos podem causar dor, geralmente menos grave, mas que pode limitar atividades.\\n\\n---\\n\\n## **Indicação de Medicamentos**\\n\\n> **Atenção:** _Não é recomendado iniciar qualquer medicamento sem avaliação médica presencial, pois o tratamento depende da causa exata da dor._  \\n> Em situações de dor abdominal aguda, a automedicação pode mascarar sintomas importantes e atrasar o diagnóstico de condições graves, como apendicite.\\n\\n---\\n\\n## **Recomendações Clínicas e Orientações de Cuidado**\\n\\n- **Procure atendimento médico imediatamente** se a dor for intensa, persistente, ou vier acompanhada de:\\n  - Febre\\n  - Vômitos\\n  - Dificuldade para urinar\\n  - Sangue na urina\\n  - Icterícia (pele ou olhos amarelados)\\n  - Alterações importantes nos hábitos intestinais\\n\\n- **Evite automedicação.**  \\n  Não utilize analgésicos, anti-inflamatórios ou antibióticos sem prescrição médica.\\n\\n- **Observe a evolução dos sintomas.**  \\n  Anote se surgirem novos sintomas ou se houver piora do quadro.\\n\\n- **Em caso de piora súbita**, procure um pronto-socorro imediatamente, pois algumas causas (como apendicite) podem evoluir rapidamente e requerem intervenção urgente.\\n\\n---\\n\\n## **Observações Importantes**\\n\\n> **Este laudo é preliminar e não substitui uma avaliação presencial com um médico.**  \\n> O diagnóstico definitivo depende de exame físico, histórico detalhado e, muitas vezes, exames laboratoriais e de imagem.\\n\\n- _Evite esforços físicos até avaliação médica._\\n- _Mantenha-se hidratado, a menos que haja orientação médica contrária._\\n- _Se for mulher e houver atraso menstrual ou suspeita de gravidez, informe ao médico._\\n\\n---\\n\\n## **Fontes Utilizadas**\\n\\n- Clínica Consulta: [Dor no lado direito da barriga: 7 causas (e o que fazer)](https://www.clinicaconsulta.com.br/dor-no-lado-direito-da-barriga-7-causas-e-o-que-fazer)\\n- MD.Saúde: [Dor abdominal: 40 causas e 13 sinais de gravidade](https://www.mdsaude.com/gastroenterologia/dor-na-barriga/)\\n- Passaporte da Saúde: [Dor do lado direito da barriga: principais causas e quando se preocupar](https://www.passaportedesaude.com.br/dor-do-lado-direito-da-barriga-principais-causas-e-quando-se-preocupar/)\\n\\n---\\n\\n> **Em caso de dúvida ou agravamento dos sintomas, procure atendimento médico imediatamente. Sua saúde é prioridade!**', pydantic=None, json_dict=None, tasks_output=[TaskOutput(description='\\n        Analisar cuidadosamente os sintomas relatados pelo paciente e realizar uma análise médica preliminar com base nessas informações.\\n        Utilizar ferramentas de busca web para investigar possíveis causas, condições associadas e contextos relevantes.\\n    ', name=None, expected_output='\\n        Um parecer médico preliminar sobre o tema Ola no momento estou sentindo muita dor no abmonem ao lado direito da minha barriga o que isso pode ser, abordando os principais sintomas descritos pelo paciente,\\n        com explicações claras e objetivas. A resposta deve ser semelhante à de um médico durante uma consulta clínica,\\n        sendo firme, empática e informativa, sem emitir um diagnóstico definitivo.\\n    ', summary='\\n        Analisar cuidadosamente...', raw='Laudo Médico Preliminar\\n\\nDescrição dos sintomas relatados:\\nVocê relatou sentir muita dor no abdômen, localizada ao lado direito da barriga. Esse sintoma pode ter diversas causas, que variam de situações simples a condições que exigem atenção médica urgente.\\n\\nPossíveis causas ou condições associadas:\\nCom base em informações médicas atualizadas, as principais causas de dor abdominal no lado direito incluem:\\n\\n1. Apendicite: Inflamação do apêndice, geralmente com dor intensa na parte inferior direita do abdômen, podendo vir acompanhada de febre, náuseas e vômitos. Trata-se de uma emergência médica.\\n2. Cálculos biliares (pedra na vesícula): Dor na parte superior direita do abdômen, especialmente após refeições gordurosas.\\n3. Pedra nos rins: Dor que pode começar na região lombar e irradiar para o lado direito do abdômen, às vezes acompanhada de dificuldade para urinar ou sangue na urina.\\n4. Problemas no fígado: Condições como hepatite ou acúmulo de gordura no fígado podem causar dor na parte superior direita da barriga, além de sintomas como cansaço, icterícia (pele ou olhos amarelados) e alterações na cor das fezes e urina.\\n5. Síndrome do Intestino Irritável: Dores abdominais intermitentes, alterações no hábito intestinal (diarreia ou constipação).\\n6. Cisto ovariano (em mulheres): Dor localizada, especialmente durante o ciclo menstrual, podendo causar inchaço abdominal ou irregularidades menstruais.\\n7. Tensão muscular: Lesões ou esforços físicos podem causar dor, geralmente menos grave, mas que pode limitar atividades.\\n\\nRecomendação preliminar:\\n- Procure atendimento médico o quanto antes, especialmente se a dor for intensa, persistente, ou vier acompanhada de febre, vômitos, dificuldade para urinar, sangue na urina, icterícia, ou alterações importantes nos hábitos intestinais.\\n- Não tome medicamentos por conta própria sem orientação.\\n- Em caso de piora súbita dos sintomas, procure um pronto-socorro imediatamente, pois algumas causas, como apendicite, podem evoluir rapidamente e requerem intervenção urgente.\\n\\nFontes e referências utilizadas:\\n- Clínica Consulta: “Dor no lado direito da barriga: 7 causas (e o que fazer)” (https://www.clinicaconsulta.com.br/dor-no-lado-direito-da-barriga-7-causas-e-o-que-fazer)\\n- MD.Saúde: “Dor abdominal: 40 causas e 13 sinais de gravidade” (https://www.mdsaude.com/gastroenterologia/dor-na-barriga/)\\n- Passaporte da Saúde: “Dor do lado direito da barriga: principais causas e quando se preocupar” (https://www.passaportedesaude.com.br/dor-do-lado-direito-da-barriga-principais-causas-e-quando-se-preocupar/)\\n\\nLembre-se: este parecer não substitui uma avaliação presencial com um médico, que poderá solicitar exames e realizar o diagnóstico definitivo. Cuide-se e procure atendimento sem demora se os sintomas persistirem ou se agravarem.', pydantic=None, json_dict=None, agent='Médico', output_format=<OutputFormat.RAW: 'raw'>), TaskOutput(description='\\n        Com base nos sintomas analisados, elaborar um laudo médico estruturado e profissional.\\n        O laudo deve oferecer sugestões baseadas em evidências, prezando pela clareza e apoio ao paciente.\\n\\n        O documento deve usar:\\n        - Cabeçalhos (Markdown `#`, `##`, `###`).\\n        - Linhas horizontais (`---`) para separar seções.\\n        - Listas com marcadores claros (`-` ou `*`).\\n        - Texto em **negrito** e _itálico_ para enfatizar pontos-chave.\\n        - Blocos de destaque, quando necessário, com citações Markdown (`> texto`).\\n\\n    ', name=None, expected_output='\\n        Um laudo médico contendo bem estilizado e com visual elegante contendo os seguintes pontos :\\n        - Resumo dos sintomas apresentados\\n        - Possíveis causas ou diagnósticos diferenciais\\n        - Indicação de medicamentos (nome, posologia, duração)\\n        - Recomendações clínicas e orientações de cuidado\\n        - Observações importantes (como evitar automedicação ou procurar atendimento emergencial)\\n        - Fontes utilizadas (se aplicável)\\n\\n\\n    ', summary='\\n        Com base...', raw='# Laudo Médico Preliminar\\n\\n---\\n\\n## **Resumo dos Sintomas Apresentados**\\n\\nVocê relatou sentir **dor intensa no abdômen**, localizada ao _lado direito da barriga_. Este sintoma pode estar associado a diversas condições, algumas das quais exigem atenção médica imediata. Outros sintomas que podem estar presentes (mas não foram relatados) e que aumentam a gravidade incluem: febre, náuseas, vômitos, dificuldade para urinar, sangue na urina, icterícia (pele ou olhos amarelados) e alterações no hábito intestinal.\\n\\n---\\n\\n## **Possíveis Causas ou Diagnósticos Diferenciais**\\n\\nCom base em informações médicas recentes e confiáveis, as principais causas para dor abdominal no lado direito incluem:\\n\\n- **Apendicite**  \\n  > Inflamação do apêndice, geralmente com dor intensa na parte inferior direita do abdômen, podendo vir acompanhada de febre, náuseas e vômitos. _Emergência médica!_\\n\\n- **Cálculos biliares (pedra na vesícula)**  \\n  > Dor na parte superior direita do abdômen, especialmente após refeições gordurosas.\\n\\n- **Pedra nos rins**  \\n  > Dor que pode começar na região lombar e irradiar para o lado direito do abdômen, às vezes acompanhada de dificuldade para urinar ou sangue na urina.\\n\\n- **Problemas no fígado**  \\n  > Hepatite ou acúmulo de gordura no fígado podem causar dor na parte superior direita da barriga, além de sintomas como cansaço, icterícia e alterações na cor das fezes e urina.\\n\\n- **Síndrome do Intestino Irritável**  \\n  > Dores abdominais intermitentes, alterações no hábito intestinal (diarreia ou constipação).\\n\\n- **Cisto ovariano (em mulheres)**  \\n  > Dor localizada, especialmente durante o ciclo menstrual, podendo causar inchaço abdominal ou irregularidades menstruais.\\n\\n- **Tensão muscular**  \\n  > Lesões ou esforços físicos podem causar dor, geralmente menos grave, mas que pode limitar atividades.\\n\\n---\\n\\n## **Indicação de Medicamentos**\\n\\n> **Atenção:** _Não é recomendado iniciar qualquer medicamento sem avaliação médica presencial, pois o tratamento depende da causa exata da dor._  \\n> Em situações de dor abdominal aguda, a automedicação pode mascarar sintomas importantes e atrasar o diagnóstico de condições graves, como apendicite.\\n\\n---\\n\\n## **Recomendações Clínicas e Orientações de Cuidado**\\n\\n- **Procure atendimento médico imediatamente** se a dor for intensa, persistente, ou vier acompanhada de:\\n  - Febre\\n  - Vômitos\\n  - Dificuldade para urinar\\n  - Sangue na urina\\n  - Icterícia (pele ou olhos amarelados)\\n  - Alterações importantes nos hábitos intestinais\\n\\n- **Evite automedicação.**  \\n  Não utilize analgésicos, anti-inflamatórios ou antibióticos sem prescrição médica.\\n\\n- **Observe a evolução dos sintomas.**  \\n  Anote se surgirem novos sintomas ou se houver piora do quadro.\\n\\n- **Em caso de piora súbita**, procure um pronto-socorro imediatamente, pois algumas causas (como apendicite) podem evoluir rapidamente e requerem intervenção urgente.\\n\\n---\\n\\n## **Observações Importantes**\\n\\n> **Este laudo é preliminar e não substitui uma avaliação presencial com um médico.**  \\n> O diagnóstico definitivo depende de exame físico, histórico detalhado e, muitas vezes, exames laboratoriais e de imagem.\\n\\n- _Evite esforços físicos até avaliação médica._\\n- _Mantenha-se hidratado, a menos que haja orientação médica contrária._\\n- _Se for mulher e houver atraso menstrual ou suspeita de gravidez, informe ao médico._\\n\\n---\\n\\n## **Fontes Utilizadas**\\n\\n- Clínica Consulta: [Dor no lado direito da barriga: 7 causas (e o que fazer)](https://www.clinicaconsulta.com.br/dor-no-lado-direito-da-barriga-7-causas-e-o-que-fazer)\\n- MD.Saúde: [Dor abdominal: 40 causas e 13 sinais de gravidade](https://www.mdsaude.com/gastroenterologia/dor-na-barriga/)\\n- Passaporte da Saúde: [Dor do lado direito da barriga: principais causas e quando se preocupar](https://www.passaportedesaude.com.br/dor-do-lado-direito-da-barriga-principais-causas-e-quando-se-preocupar/)\\n\\n---\\n\\n> **Em caso de dúvida ou agravamento dos sintomas, procure atendimento médico imediatamente. Sua saúde é prioridade!**', pydantic=None, json_dict=None, agent='Médico', output_format=<OutputFormat.RAW: 'raw'>)], token_usage=UsageMetrics(total_tokens=10923, prompt_tokens=9064, cached_prompt_tokens=0, completion_tokens=1859, successful_requests=4))"
            ]
          },
          "metadata": {},
          "execution_count": 203
        }
      ]
    },
    {
      "cell_type": "code",
      "source": [
        "# Now let's check our Crew Response based into our input message\n",
        "from IPython.display import display, Markdown\n",
        "\n",
        "display(Markdown(resultado.raw))\n"
      ],
      "metadata": {
        "colab": {
          "base_uri": "https://localhost:8080/",
          "height": 1000
        },
        "id": "jkaM1q97r-dB",
        "outputId": "3c416c8e-193d-437e-a89a-e56aef71ee7c"
      },
      "execution_count": null,
      "outputs": [
        {
          "output_type": "display_data",
          "data": {
            "text/plain": [
              "<IPython.core.display.Markdown object>"
            ],
            "text/markdown": "# Laudo Médico Preliminar\n\n---\n\n## **Resumo dos Sintomas Apresentados**\n\nVocê relatou sentir **dor intensa no abdômen**, localizada ao _lado direito da barriga_. Este sintoma pode estar associado a diversas condições, algumas das quais exigem atenção médica imediata. Outros sintomas que podem estar presentes (mas não foram relatados) e que aumentam a gravidade incluem: febre, náuseas, vômitos, dificuldade para urinar, sangue na urina, icterícia (pele ou olhos amarelados) e alterações no hábito intestinal.\n\n---\n\n## **Possíveis Causas ou Diagnósticos Diferenciais**\n\nCom base em informações médicas recentes e confiáveis, as principais causas para dor abdominal no lado direito incluem:\n\n- **Apendicite**  \n  > Inflamação do apêndice, geralmente com dor intensa na parte inferior direita do abdômen, podendo vir acompanhada de febre, náuseas e vômitos. _Emergência médica!_\n\n- **Cálculos biliares (pedra na vesícula)**  \n  > Dor na parte superior direita do abdômen, especialmente após refeições gordurosas.\n\n- **Pedra nos rins**  \n  > Dor que pode começar na região lombar e irradiar para o lado direito do abdômen, às vezes acompanhada de dificuldade para urinar ou sangue na urina.\n\n- **Problemas no fígado**  \n  > Hepatite ou acúmulo de gordura no fígado podem causar dor na parte superior direita da barriga, além de sintomas como cansaço, icterícia e alterações na cor das fezes e urina.\n\n- **Síndrome do Intestino Irritável**  \n  > Dores abdominais intermitentes, alterações no hábito intestinal (diarreia ou constipação).\n\n- **Cisto ovariano (em mulheres)**  \n  > Dor localizada, especialmente durante o ciclo menstrual, podendo causar inchaço abdominal ou irregularidades menstruais.\n\n- **Tensão muscular**  \n  > Lesões ou esforços físicos podem causar dor, geralmente menos grave, mas que pode limitar atividades.\n\n---\n\n## **Indicação de Medicamentos**\n\n> **Atenção:** _Não é recomendado iniciar qualquer medicamento sem avaliação médica presencial, pois o tratamento depende da causa exata da dor._  \n> Em situações de dor abdominal aguda, a automedicação pode mascarar sintomas importantes e atrasar o diagnóstico de condições graves, como apendicite.\n\n---\n\n## **Recomendações Clínicas e Orientações de Cuidado**\n\n- **Procure atendimento médico imediatamente** se a dor for intensa, persistente, ou vier acompanhada de:\n  - Febre\n  - Vômitos\n  - Dificuldade para urinar\n  - Sangue na urina\n  - Icterícia (pele ou olhos amarelados)\n  - Alterações importantes nos hábitos intestinais\n\n- **Evite automedicação.**  \n  Não utilize analgésicos, anti-inflamatórios ou antibióticos sem prescrição médica.\n\n- **Observe a evolução dos sintomas.**  \n  Anote se surgirem novos sintomas ou se houver piora do quadro.\n\n- **Em caso de piora súbita**, procure um pronto-socorro imediatamente, pois algumas causas (como apendicite) podem evoluir rapidamente e requerem intervenção urgente.\n\n---\n\n## **Observações Importantes**\n\n> **Este laudo é preliminar e não substitui uma avaliação presencial com um médico.**  \n> O diagnóstico definitivo depende de exame físico, histórico detalhado e, muitas vezes, exames laboratoriais e de imagem.\n\n- _Evite esforços físicos até avaliação médica._\n- _Mantenha-se hidratado, a menos que haja orientação médica contrária._\n- _Se for mulher e houver atraso menstrual ou suspeita de gravidez, informe ao médico._\n\n---\n\n## **Fontes Utilizadas**\n\n- Clínica Consulta: [Dor no lado direito da barriga: 7 causas (e o que fazer)](https://www.clinicaconsulta.com.br/dor-no-lado-direito-da-barriga-7-causas-e-o-que-fazer)\n- MD.Saúde: [Dor abdominal: 40 causas e 13 sinais de gravidade](https://www.mdsaude.com/gastroenterologia/dor-na-barriga/)\n- Passaporte da Saúde: [Dor do lado direito da barriga: principais causas e quando se preocupar](https://www.passaportedesaude.com.br/dor-do-lado-direito-da-barriga-principais-causas-e-quando-se-preocupar/)\n\n---\n\n> **Em caso de dúvida ou agravamento dos sintomas, procure atendimento médico imediatamente. Sua saúde é prioridade!**"
          },
          "metadata": {}
        }
      ]
    }
  ]
}